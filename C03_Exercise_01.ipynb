{
 "cells": [
  {
   "cell_type": "code",
   "execution_count": 1,
   "metadata": {},
   "outputs": [],
   "source": [
    "import warnings\n",
    "warnings.simplefilter(action='ignore', category=FutureWarning)\n",
    "%matplotlib inline"
   ]
  },
  {
   "cell_type": "code",
   "execution_count": 20,
   "metadata": {},
   "outputs": [],
   "source": [
    "# Prepare data\n",
    "\n",
    "from sklearn.datasets import fetch_mldata\n",
    "mnist = fetch_mldata('MNIST original')\n",
    "X, y = mnist['data'], mnist['target']\n",
    "\n",
    "# spilt test data\n",
    "X_train = X[:60000]\n",
    "X_test = X[60000:]\n",
    "y_train = y[:60000]\n",
    "y_test = y[60000:]"
   ]
  },
  {
   "cell_type": "code",
   "execution_count": 43,
   "metadata": {},
   "outputs": [],
   "source": [
    "import numpy as np\n",
    "sample_indices = np.random.choice(60000, 20000)\n",
    "X_train_small = X_train[sample_indices]\n",
    "y_train_small = y_train[sample_indices]"
   ]
  },
  {
   "cell_type": "code",
   "execution_count": 21,
   "metadata": {},
   "outputs": [],
   "source": [
    "from sklearn.neighbors import KNeighborsClassifier\n"
   ]
  },
  {
   "cell_type": "code",
   "execution_count": 44,
   "metadata": {},
   "outputs": [
    {
     "name": "stdout",
     "output_type": "stream",
     "text": [
      "0.9628 {'n_neighbors': 4, 'weights': 'distance'}\n",
      "0.9607 {'n_neighbors': 6, 'weights': 'distance'}\n",
      "0.9599 {'n_neighbors': 5, 'weights': 'distance'}\n",
      "0.952 {'n_neighbors': 5, 'weights': 'uniform'}\n",
      "0.9517 {'n_neighbors': 6, 'weights': 'uniform'}\n",
      "0.9513 {'n_neighbors': 4, 'weights': 'uniform'}\n"
     ]
    }
   ],
   "source": [
    "#GridSearchCV\n",
    "from sklearn.model_selection import GridSearchCV\n",
    "kn_clf = KNeighborsClassifier(n_jobs=-1)\n",
    "param_dict = [\n",
    "    {\n",
    "        \"n_neighbors\" : [4, 5, 6],\n",
    "#         \"algorithm\" : ['ball_tree', 'kd_tree', 'brute'],\n",
    "#         \"leaf_size\" : [10, 15, 30],\n",
    "        \"weights\" : ['uniform', 'distance'],\n",
    "#         \"P\" : [1, 2],\n",
    "    },\n",
    "]\n",
    "grid_search = GridSearchCV(kn_clf, param_dict, cv=3, scoring=\"accuracy\", return_train_score=True, n_jobs=-1)\n",
    "grid_search.fit(X_train_small, y_train_small)\n",
    "cvres = grid_search.cv_results_\n",
    "for mean_score, params in sorted(zip(cvres['mean_test_score'], cvres['params']), key=lambda x: x[0], reverse=True):\n",
    "    print(mean_score, params)"
   ]
  },
  {
   "cell_type": "code",
   "execution_count": 39,
   "metadata": {},
   "outputs": [
    {
     "data": {
      "text/plain": [
       "KNeighborsClassifier(algorithm='ball_tree', leaf_size=15, metric='minkowski',\n",
       "           metric_params=None, n_jobs=-1, n_neighbors=5, p=2,\n",
       "           weights='distance')"
      ]
     },
     "execution_count": 39,
     "metadata": {},
     "output_type": "execute_result"
    }
   ],
   "source": [
    "kn_clf = KNeighborsClassifier(algorithm='ball_tree', leaf_size=15, n_neighbors=4, weights='distance', n_jobs=-1)\n",
    "kn_clf.fit(X_train, y_train)"
   ]
  },
  {
   "cell_type": "code",
   "execution_count": 7,
   "metadata": {},
   "outputs": [
    {
     "name": "stdout",
     "output_type": "stream",
     "text": [
      "Accuracy: 0.9688\n"
     ]
    }
   ],
   "source": [
    "y_pred = kn_clf.predict(X_test)\n",
    "n_correct = sum(y_pred == y_test)\n",
    "print(\"Accuracy:\", n_correct / len(y_test))"
   ]
  },
  {
   "cell_type": "code",
   "execution_count": null,
   "metadata": {},
   "outputs": [],
   "source": []
  }
 ],
 "metadata": {
  "kernelspec": {
   "display_name": "Python 3",
   "language": "python",
   "name": "python3"
  },
  "language_info": {
   "codemirror_mode": {
    "name": "ipython",
    "version": 3
   },
   "file_extension": ".py",
   "mimetype": "text/x-python",
   "name": "python",
   "nbconvert_exporter": "python",
   "pygments_lexer": "ipython3",
   "version": "3.6.5"
  }
 },
 "nbformat": 4,
 "nbformat_minor": 2
}
