{
 "cells": [
  {
   "cell_type": "markdown",
   "metadata": {},
   "source": [
    "## Exercise 4: Spam Classifier"
   ]
  },
  {
   "cell_type": "markdown",
   "metadata": {},
   "source": [
    "### 1. Load data"
   ]
  },
  {
   "cell_type": "code",
   "execution_count": 1,
   "metadata": {},
   "outputs": [],
   "source": [
    "%matplotlib inline\n",
    "import warnings\n",
    "warnings.simplefilter(action='ignore', category=FutureWarning)\n",
    "\n",
    "import matplotlib\n",
    "import matplotlib.pyplot as plt\n",
    "import numpy as np\n",
    "import pickle\n",
    "\n",
    "def load_obj(name ):\n",
    "    with open('./' + name + '.pkl', 'rb') as f:\n",
    "        return pickle.load(f)"
   ]
  },
  {
   "cell_type": "code",
   "execution_count": 2,
   "metadata": {},
   "outputs": [
    {
     "name": "stdout",
     "output_type": "stream",
     "text": [
      "load data\n",
      "X_train: 5481 \ty_train: 5481\n",
      "X_test: 1371 \ty_test: 1371\n"
     ]
    }
   ],
   "source": [
    "# Fetch data\n",
    "X_train = np.array(load_obj(\"X_train\"))\n",
    "y_train = np.array(load_obj(\"y_train\"))\n",
    "X_test = np.array(load_obj(\"X_test\"))\n",
    "y_test = np.array(load_obj(\"y_test\"))\n",
    "\n",
    "print(\"load data\")\n",
    "print(\"X_train:\", len(X_train), \"\\ty_train:\", len(y_train))\n",
    "print(\"X_test:\", len(X_test), \"\\ty_test:\", len(y_test))"
   ]
  },
  {
   "cell_type": "markdown",
   "metadata": {},
   "source": [
    "### SGDClassifier"
   ]
  },
  {
   "cell_type": "code",
   "execution_count": 3,
   "metadata": {},
   "outputs": [
    {
     "name": "stdout",
     "output_type": "stream",
     "text": [
      "F1 Score: [0.98251192 0.98584906 0.98368298]\n",
      "Accuracy: [0.98796499 0.99014778 0.98849945]\n"
     ]
    }
   ],
   "source": [
    "from sklearn.model_selection import cross_val_score\n",
    "from sklearn.linear_model import SGDClassifier\n",
    "sgd_clf = SGDClassifier(random_state=42)\n",
    "print(\"F1 Score:\", cross_val_score(sgd_clf, X_train, y_train, cv=3, scoring = 'f1'))\n",
    "print(\"Accuracy:\", cross_val_score(sgd_clf, X_train, y_train, cv=3, scoring = 'accuracy'))"
   ]
  },
  {
   "cell_type": "markdown",
   "metadata": {},
   "source": [
    "### Verify on Test Set Using SGDClassifier"
   ]
  },
  {
   "cell_type": "code",
   "execution_count": 4,
   "metadata": {},
   "outputs": [
    {
     "name": "stdout",
     "output_type": "stream",
     "text": [
      "Predict: 0.9978118161925602\n"
     ]
    }
   ],
   "source": [
    "sgd_clf = SGDClassifier(random_state=42)\n",
    "sgd_clf.fit(X_train, y_train)\n",
    "y_pred = sgd_clf.predict(X_test)\n",
    "correct_count = sum(y_pred == y_test)\n",
    "print(\"Predict:\", correct_count / len(y_test))"
   ]
  },
  {
   "cell_type": "markdown",
   "metadata": {},
   "source": [
    "### Try Different Classifiers"
   ]
  },
  {
   "cell_type": "code",
   "execution_count": 139,
   "metadata": {},
   "outputs": [
    {
     "name": "stdout",
     "output_type": "stream",
     "text": [
      "0.9804508915385339 {'bootstrap': True, 'max_features': 10, 'n_estimators': 1000}\n",
      "0.9793909236092351 {'bootstrap': True, 'max_features': 9, 'n_estimators': 3000}\n",
      "0.9793880715119263 {'bootstrap': True, 'max_features': 10, 'n_estimators': 3000}\n",
      "0.9793831256661922 {'bootstrap': True, 'max_features': 9, 'n_estimators': 10000}\n",
      "0.9793831256661922 {'bootstrap': True, 'max_features': 10, 'n_estimators': 10000}\n",
      "0.9793681588207632 {'bootstrap': True, 'max_features': 10, 'n_estimators': 300}\n",
      "0.9791239542067468 {'bootstrap': True, 'max_features': 9, 'n_estimators': 1000}\n",
      "0.9791142241129759 {'bootstrap': True, 'max_features': 8, 'n_estimators': 1000}\n",
      "0.9788429641976099 {'bootstrap': True, 'max_features': 8, 'n_estimators': 3000}\n",
      "0.9788429641976099 {'bootstrap': True, 'max_features': 8, 'n_estimators': 10000}\n",
      "0.9785808400236481 {'bootstrap': True, 'max_features': 8, 'n_estimators': 100}\n",
      "0.9785700718478565 {'bootstrap': True, 'max_features': 9, 'n_estimators': 300}\n",
      "0.9780710849908693 {'bootstrap': True, 'max_features': 8, 'n_estimators': 300}\n",
      "0.9777508754133447 {'bootstrap': True, 'max_features': 9, 'n_estimators': 100}\n",
      "0.9759024350604328 {'bootstrap': True, 'max_features': 10, 'n_estimators': 100}\n"
     ]
    }
   ],
   "source": [
    "# GridSearchCV\n",
    "from sklearn.model_selection import GridSearchCV\n",
    "from sklearn.ensemble import RandomForestClassifier\n",
    "forest_clf = RandomForestClassifier(random_state=42)\n",
    "param_grid = [\n",
    "    {\n",
    "    \"n_estimators\": [100, 300, 1000, 3000, 10000],\n",
    "    \"max_features\": [8, 9, 10],\n",
    "    \"bootstrap\": [True],\n",
    "    },\n",
    "]\n",
    "grid_search = GridSearchCV(forest_clf, param_grid, cv=3, scoring=\"f1\", return_train_score=True, n_jobs=-1)\n",
    "grid_search.fit(X_train, y_train)\n",
    "cvres = grid_search.cv_results_\n",
    "for mean_score, params in sorted(zip(cvres['mean_test_score'], cvres['params']), key=lambda x: x[0], reverse=True):\n",
    "    print(mean_score, params)"
   ]
  },
  {
   "cell_type": "markdown",
   "metadata": {},
   "source": [
    "### Predict Custom Email"
   ]
  },
  {
   "cell_type": "code",
   "execution_count": 7,
   "metadata": {},
   "outputs": [
    {
     "name": "stdout",
     "output_type": "stream",
     "text": [
      "Predict custom e-mail: [0]\n"
     ]
    }
   ],
   "source": [
    "custom_mail_indices = load_obj(\"custom_email\")\n",
    "result = sgd_clf.predict([custom_mail_indices])\n",
    "print(\"Predict custom e-mail:\", result)"
   ]
  },
  {
   "cell_type": "code",
   "execution_count": null,
   "metadata": {},
   "outputs": [],
   "source": []
  }
 ],
 "metadata": {
  "kernelspec": {
   "display_name": "Python 3",
   "language": "python",
   "name": "python3"
  },
  "language_info": {
   "codemirror_mode": {
    "name": "ipython",
    "version": 3
   },
   "file_extension": ".py",
   "mimetype": "text/x-python",
   "name": "python",
   "nbconvert_exporter": "python",
   "pygments_lexer": "ipython3",
   "version": "3.6.5"
  }
 },
 "nbformat": 4,
 "nbformat_minor": 2
}
