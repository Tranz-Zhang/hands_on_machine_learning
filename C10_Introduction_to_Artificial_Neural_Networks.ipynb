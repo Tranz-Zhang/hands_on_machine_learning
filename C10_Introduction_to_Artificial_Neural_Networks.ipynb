{
 "cells": [
  {
   "cell_type": "markdown",
   "metadata": {},
   "source": [
    "# Chapter 10: Introduction to Artificial Neura Networks"
   ]
  },
  {
   "cell_type": "code",
   "execution_count": null,
   "metadata": {},
   "outputs": [],
   "source": [
    "import numpy as np\n",
    "from sklearn.datasets import load_iris\n",
    "from sklearn.linear_model import Perceptron"
   ]
  },
  {
   "cell_type": "code",
   "execution_count": null,
   "metadata": {},
   "outputs": [],
   "source": [
    "iris = load_iris()\n",
    "X = iris.data[:, (2, 3)]\n",
    "y = (iris.target == 0).astype(np.int)"
   ]
  },
  {
   "cell_type": "code",
   "execution_count": null,
   "metadata": {},
   "outputs": [],
   "source": [
    "per_clf = Perceptron(random_state=42)\n",
    "per_clf.fit(X, y)"
   ]
  },
  {
   "cell_type": "code",
   "execution_count": null,
   "metadata": {},
   "outputs": [],
   "source": [
    "y_pred = per_clf.predict([[2, 0.5]])"
   ]
  },
  {
   "cell_type": "markdown",
   "metadata": {},
   "source": [
    "Perceptron的缺点：直接输出分类，不支持概率"
   ]
  },
  {
   "cell_type": "markdown",
   "metadata": {},
   "source": [
    "## Multi-Layer Perceptron"
   ]
  },
  {
   "cell_type": "code",
   "execution_count": null,
   "metadata": {},
   "outputs": [],
   "source": [
    "# Setup mnist data set\n",
    "import numpy as np\n",
    "from tensorflow.examples.tutorials.mnist import input_data\n",
    "mnist = input_data.read_data_sets('MNIST_data')"
   ]
  },
  {
   "cell_type": "code",
   "execution_count": null,
   "metadata": {},
   "outputs": [],
   "source": [
    "feature_columns = [tf.feature_column.numeric_column('x', shape=[28, 28])]"
   ]
  },
  {
   "cell_type": "code",
   "execution_count": null,
   "metadata": {},
   "outputs": [],
   "source": [
    "# define DNNClassifier\n",
    "dnn_clf = tf.estimator.DNNClassifier(\n",
    "    feature_columns=feature_columns,\n",
    "    hidden_units=[256, 32],\n",
    "    optimizer=tf.train.AdamOptimizer(1e-4),\n",
    "    n_classes=10,\n",
    "    dropout=0.1,\n",
    "    model_dir=\"/Users/chance/machine_learning/hands_on_machine_learning/tmp/dnn_mnist_model\"\n",
    ")"
   ]
  },
  {
   "cell_type": "code",
   "execution_count": null,
   "metadata": {},
   "outputs": [],
   "source": [
    "def input(dataset):\n",
    "    return dataset.images, dataset.labels.astype(np.int32) #这个int32转换是必要的"
   ]
  },
  {
   "cell_type": "code",
   "execution_count": null,
   "metadata": {},
   "outputs": [],
   "source": [
    "# 封装了一个input函数，但需要定义input，貌似很麻烦。。。\n",
    "train_input_fn = tf.estimator.inputs.numpy_input_fn(\n",
    "    x={\"x\": input(mnist.train)[0]},\n",
    "    y=input(mnist.train)[1],\n",
    "    num_epochs=None,\n",
    "    batch_size=50,\n",
    "    shuffle=True\n",
    ")"
   ]
  },
  {
   "cell_type": "code",
   "execution_count": null,
   "metadata": {},
   "outputs": [],
   "source": [
    "# Training\n",
    "dnn_clf.train(input_fn=train_input_fn, steps=100000)"
   ]
  },
  {
   "cell_type": "code",
   "execution_count": null,
   "metadata": {},
   "outputs": [],
   "source": [
    "# perpare test input\n",
    "test_input_fn = tf.estimator.inputs.numpy_input_fn(\n",
    "    x={'x': input(mnist.test)[0]},\n",
    "    y=input(mnist.test)[1],\n",
    "    num_epochs=1,\n",
    "    shuffle=False,\n",
    ")"
   ]
  },
  {
   "cell_type": "code",
   "execution_count": null,
   "metadata": {},
   "outputs": [],
   "source": [
    "evaluate_result = dnn_clf.evaluate(input_fn=test_input_fn)\n",
    "print(evaluate_result)"
   ]
  },
  {
   "cell_type": "markdown",
   "metadata": {},
   "source": [
    "## Traing a DNN Using Plain TensorFlow"
   ]
  },
  {
   "cell_type": "markdown",
   "metadata": {},
   "source": [
    "#### Construction"
   ]
  },
  {
   "cell_type": "code",
   "execution_count": 1,
   "metadata": {},
   "outputs": [],
   "source": [
    "import tensorflow as tf\n",
    "n_inputs = 28 * 28\n",
    "n_hidden_1 = 256\n",
    "n_hidden_2 = 100\n",
    "n_outputs = 10"
   ]
  },
  {
   "cell_type": "code",
   "execution_count": 2,
   "metadata": {},
   "outputs": [],
   "source": [
    "X = tf.placeholder(tf.float32, shape=(None, n_inputs), name='X')\n",
    "y = tf.placeholder(tf.int32, shape=(None), name='y')"
   ]
  },
  {
   "cell_type": "code",
   "execution_count": 3,
   "metadata": {},
   "outputs": [],
   "source": [
    "def neuron_layer(X, n_neurons, name, activation=None):\n",
    "    with tf.name_scope(name):\n",
    "        n_inputs = int(X.get_shape()[1])\n",
    "        stddev = 2 / np.sqrt(n_inputs) # 这个数值可以使得算法更快收束，提高效率\n",
    "        init = tf.truncated_normal((n_inputs, n_neurons), stddev=stddev)\n",
    "        W = tf.Variable(init, name='weights')\n",
    "        b = tf.Variable(tf.zeros([n_neurons]), name='biases')\n",
    "        z = tf.matmul(X, W) + b\n",
    "        if activation == 'relu':\n",
    "            return tf.nn.relu(z)\n",
    "        else:\n",
    "            return z"
   ]
  },
  {
   "cell_type": "code",
   "execution_count": null,
   "metadata": {},
   "outputs": [],
   "source": [
    "with tf.name_scope(\"dnn\"):\n",
    "    hidden1 = neuron_layer(X, n_hidden_1, \"hidden1\", activation='relu')\n",
    "    hidden2 = neuron_layer(hidden1, n_hidden_2, \"hidden2\", activation='relu')\n",
    "    logits = neuron_layer(hidden2, n_outputs, \"outputs\")"
   ]
  },
  {
   "cell_type": "code",
   "execution_count": 4,
   "metadata": {},
   "outputs": [],
   "source": [
    "# 使用tf的默认函数组织dnn\n",
    "from tensorflow.contrib.layers import fully_connected\n",
    "with tf.name_scope(\"dnn_tf\"):\n",
    "    hidden1 = fully_connected(X, n_hidden_1, scope='hidden1')\n",
    "    hidden2 = fully_connected(hidden1, n_hidden_2, scope='hidden2')\n",
    "    logits = fully_connected(hidden2, n_outputs, scope='outputs', activation_fn=None)"
   ]
  },
  {
   "cell_type": "code",
   "execution_count": 5,
   "metadata": {},
   "outputs": [],
   "source": [
    "with tf.name_scope(\"loss\"):\n",
    "    #这个函数，自动计算了神经网络的cost function？？？\n",
    "    xentropy = tf.nn.sparse_softmax_cross_entropy_with_logits(labels=y, logits=logits)\n",
    "    loss = tf.reduce_mean(xentropy, name=\"loss\") # 所有training instances的输出结果的平均数！！！"
   ]
  },
  {
   "cell_type": "code",
   "execution_count": 6,
   "metadata": {},
   "outputs": [],
   "source": [
    "# create optimizer\n",
    "learning_rate=0.01\n",
    "with tf.name_scope(\"train\"):\n",
    "    optimizer = tf.train.GradientDescentOptimizer(learning_rate)\n",
    "    training_op = optimizer.minimize(loss)"
   ]
  },
  {
   "cell_type": "code",
   "execution_count": 7,
   "metadata": {},
   "outputs": [],
   "source": [
    "with tf.name_scope(\"eval\"):\n",
    "    # 输出一组bool值，用于计算预测的结果和实际结果的是否相等\n",
    "    # tf.nn.in_top_k(预测值， 目标索引，采用前n位)\n",
    "    # ref：https://blog.csdn.net/UESTC_C2_403/article/details/73187915\n",
    "    correct = tf.nn.in_top_k(logits, y, 1) \n",
    "    accuracy = tf.reduce_mean(tf.cast(correct, tf.float32))"
   ]
  },
  {
   "cell_type": "code",
   "execution_count": 9,
   "metadata": {},
   "outputs": [],
   "source": [
    "init = tf.global_variables_initializer()\n",
    "saver = tf.train.Saver()"
   ]
  },
  {
   "cell_type": "code",
   "execution_count": 10,
   "metadata": {
    "scrolled": false
   },
   "outputs": [
    {
     "name": "stdout",
     "output_type": "stream",
     "text": [
      "WARNING:tensorflow:From <ipython-input-10-a37a59f11b0d>:2: read_data_sets (from tensorflow.contrib.learn.python.learn.datasets.mnist) is deprecated and will be removed in a future version.\n",
      "Instructions for updating:\n",
      "Please use alternatives such as official/mnist/dataset.py from tensorflow/models.\n",
      "WARNING:tensorflow:From /usr/local/lib/python3.6/site-packages/tensorflow/contrib/learn/python/learn/datasets/mnist.py:260: maybe_download (from tensorflow.contrib.learn.python.learn.datasets.base) is deprecated and will be removed in a future version.\n",
      "Instructions for updating:\n",
      "Please write your own downloading logic.\n",
      "WARNING:tensorflow:From /usr/local/lib/python3.6/site-packages/tensorflow/contrib/learn/python/learn/datasets/mnist.py:262: extract_images (from tensorflow.contrib.learn.python.learn.datasets.mnist) is deprecated and will be removed in a future version.\n",
      "Instructions for updating:\n",
      "Please use tf.data to implement this functionality.\n",
      "Extracting MNIST_data/train-images-idx3-ubyte.gz\n",
      "WARNING:tensorflow:From /usr/local/lib/python3.6/site-packages/tensorflow/contrib/learn/python/learn/datasets/mnist.py:267: extract_labels (from tensorflow.contrib.learn.python.learn.datasets.mnist) is deprecated and will be removed in a future version.\n",
      "Instructions for updating:\n",
      "Please use tf.data to implement this functionality.\n",
      "Extracting MNIST_data/train-labels-idx1-ubyte.gz\n",
      "Extracting MNIST_data/t10k-images-idx3-ubyte.gz\n",
      "Extracting MNIST_data/t10k-labels-idx1-ubyte.gz\n",
      "WARNING:tensorflow:From /usr/local/lib/python3.6/site-packages/tensorflow/contrib/learn/python/learn/datasets/mnist.py:290: DataSet.__init__ (from tensorflow.contrib.learn.python.learn.datasets.mnist) is deprecated and will be removed in a future version.\n",
      "Instructions for updating:\n",
      "Please use alternatives such as official/mnist/dataset.py from tensorflow/models.\n"
     ]
    }
   ],
   "source": [
    "from tensorflow.examples.tutorials.mnist import input_data\n",
    "mnist = input_data.read_data_sets('MNIST_data')"
   ]
  },
  {
   "cell_type": "code",
   "execution_count": 14,
   "metadata": {},
   "outputs": [
    {
     "name": "stdout",
     "output_type": "stream",
     "text": [
      "0 Train accuracy: 0.88 Test accuracy: 0.9021\n",
      "1 Train accuracy: 0.92 Test accuracy: 0.9202\n",
      "2 Train accuracy: 0.88 Test accuracy: 0.9304\n",
      "3 Train accuracy: 1.0 Test accuracy: 0.9366\n",
      "4 Train accuracy: 0.9 Test accuracy: 0.942\n",
      "5 Train accuracy: 0.92 Test accuracy: 0.9458\n",
      "6 Train accuracy: 1.0 Test accuracy: 0.9495\n",
      "7 Train accuracy: 0.92 Test accuracy: 0.952\n",
      "8 Train accuracy: 0.98 Test accuracy: 0.9564\n",
      "9 Train accuracy: 1.0 Test accuracy: 0.957\n",
      "10 Train accuracy: 0.94 Test accuracy: 0.9587\n",
      "11 Train accuracy: 0.98 Test accuracy: 0.9604\n",
      "12 Train accuracy: 1.0 Test accuracy: 0.9636\n",
      "13 Train accuracy: 1.0 Test accuracy: 0.9649\n",
      "14 Train accuracy: 0.98 Test accuracy: 0.9659\n",
      "15 Train accuracy: 0.96 Test accuracy: 0.9667\n",
      "16 Train accuracy: 0.94 Test accuracy: 0.9668\n",
      "17 Train accuracy: 0.94 Test accuracy: 0.9692\n",
      "18 Train accuracy: 1.0 Test accuracy: 0.9699\n",
      "19 Train accuracy: 0.96 Test accuracy: 0.9727\n",
      "20 Train accuracy: 0.98 Test accuracy: 0.9725\n",
      "21 Train accuracy: 0.96 Test accuracy: 0.9726\n",
      "22 Train accuracy: 0.98 Test accuracy: 0.9742\n",
      "23 Train accuracy: 0.96 Test accuracy: 0.9733\n",
      "24 Train accuracy: 1.0 Test accuracy: 0.974\n",
      "25 Train accuracy: 0.98 Test accuracy: 0.9747\n",
      "26 Train accuracy: 0.96 Test accuracy: 0.9751\n",
      "27 Train accuracy: 1.0 Test accuracy: 0.9749\n",
      "28 Train accuracy: 0.98 Test accuracy: 0.9752\n",
      "29 Train accuracy: 0.96 Test accuracy: 0.9757\n",
      "30 Train accuracy: 0.96 Test accuracy: 0.9758\n",
      "31 Train accuracy: 0.98 Test accuracy: 0.9763\n",
      "32 Train accuracy: 0.98 Test accuracy: 0.9751\n",
      "33 Train accuracy: 0.98 Test accuracy: 0.9761\n",
      "34 Train accuracy: 1.0 Test accuracy: 0.9769\n",
      "35 Train accuracy: 0.96 Test accuracy: 0.9778\n",
      "36 Train accuracy: 1.0 Test accuracy: 0.9781\n",
      "37 Train accuracy: 1.0 Test accuracy: 0.9781\n",
      "38 Train accuracy: 1.0 Test accuracy: 0.9782\n",
      "39 Train accuracy: 1.0 Test accuracy: 0.9788\n",
      "40 Train accuracy: 0.98 Test accuracy: 0.9795\n",
      "41 Train accuracy: 0.98 Test accuracy: 0.978\n",
      "42 Train accuracy: 1.0 Test accuracy: 0.9774\n",
      "43 Train accuracy: 1.0 Test accuracy: 0.9781\n",
      "44 Train accuracy: 1.0 Test accuracy: 0.9775\n",
      "45 Train accuracy: 0.98 Test accuracy: 0.9792\n",
      "46 Train accuracy: 1.0 Test accuracy: 0.9785\n",
      "47 Train accuracy: 1.0 Test accuracy: 0.9785\n",
      "48 Train accuracy: 1.0 Test accuracy: 0.979\n",
      "49 Train accuracy: 1.0 Test accuracy: 0.9794\n"
     ]
    }
   ],
   "source": [
    "model_path = '/Users/chance/machine_learning/hands_on_machine_learning/tmp/dnn_model_final.ckpt'\n",
    "n_epochs = 50\n",
    "batch_size = 50\n",
    "with tf.Session() as sess:\n",
    "    init.run()\n",
    "    for epoch in range(n_epochs):\n",
    "        for iteration in range(mnist.train.num_examples // batch_size):\n",
    "            X_batch, y_batch = mnist.train.next_batch(batch_size) #支持直接提取batch数据\n",
    "            sess.run(training_op, feed_dict={X: X_batch, y: y_batch})\n",
    "        acc_train = accuracy.eval(feed_dict={X: X_batch, y: y_batch})\n",
    "        acc_test = accuracy.eval(feed_dict={X: mnist.test.images,\n",
    "                                            y: mnist.test.labels})\n",
    "        print(epoch, \"Train accuracy:\", acc_train, \"Test accuracy:\", acc_test)\n",
    "    save_path = saver.save(sess, model_path)"
   ]
  },
  {
   "cell_type": "code",
   "execution_count": 18,
   "metadata": {},
   "outputs": [
    {
     "name": "stdout",
     "output_type": "stream",
     "text": [
      "INFO:tensorflow:Restoring parameters from /Users/chance/machine_learning/hands_on_machine_learning/tmp/dnn_model_final.ckpt\n",
      "Test predict: [7] correct: 7\n"
     ]
    }
   ],
   "source": [
    "# Using the Neural Network\n",
    "import numpy as np\n",
    "test_image = mnist.test.images[0]\n",
    "test_label = mnist.test.labels[0]\n",
    "with tf.Session() as sess:\n",
    "    saver.restore(sess, model_path)\n",
    "    Z = logits.eval(feed_dict={X: [test_image]})\n",
    "    y_pred = np.argmax(Z, axis=1)\n",
    "    print(\"Test predict:\", y_pred, \"correct:\", test_label)"
   ]
  },
  {
   "cell_type": "code",
   "execution_count": null,
   "metadata": {},
   "outputs": [],
   "source": []
  }
 ],
 "metadata": {
  "kernelspec": {
   "display_name": "Python 3",
   "language": "python",
   "name": "python3"
  },
  "language_info": {
   "codemirror_mode": {
    "name": "ipython",
    "version": 3
   },
   "file_extension": ".py",
   "mimetype": "text/x-python",
   "name": "python",
   "nbconvert_exporter": "python",
   "pygments_lexer": "ipython3",
   "version": "3.6.5"
  }
 },
 "nbformat": 4,
 "nbformat_minor": 2
}
