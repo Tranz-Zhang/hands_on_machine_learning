{
 "cells": [
  {
   "cell_type": "markdown",
   "metadata": {},
   "source": [
    "# Exercise 02\n",
    "\n",
    "Write a function that can shift an MNIST image in any direction (left, right, up, or down) by one pixel.5 Then, for each image in the training set, create four shif‐ ted copies (one per direction) and add them to the training set. Finally, train your best model on this expanded training set and measure its accuracy on the test set. You should observe that your model performs even better now! This technique of artificially growing the training set is called data augmentation or training set expansion.\n",
    "\n",
    "You can use the shift() function from the scipy.ndimage.interpolation module. For example, shift(image, [2, 1], cval=0) shifts the image 2 pixels down and 1 pixel to the right."
   ]
  },
  {
   "cell_type": "code",
   "execution_count": 14,
   "metadata": {},
   "outputs": [],
   "source": [
    "import numpy as np\n",
    "import pandas as pd\n",
    "import matplotlib\n",
    "import matplotlib.pyplot as plt\n",
    "\n",
    "# ignore warning\n",
    "import warnings\n",
    "warnings.simplefilter(action='ignore', category=FutureWarning)"
   ]
  },
  {
   "cell_type": "code",
   "execution_count": 2,
   "metadata": {},
   "outputs": [],
   "source": [
    "from sklearn.datasets import fetch_mldata\n",
    "mnist = fetch_mldata(\"MNIST original\")\n",
    "X, y = mnist['data'], mnist['target']"
   ]
  },
  {
   "cell_type": "code",
   "execution_count": 3,
   "metadata": {},
   "outputs": [],
   "source": [
    "def plot_digit(data):\n",
    "    image = data.reshape(28, 28)\n",
    "    plt.imshow(image, cmap = matplotlib.cm.binary,\n",
    "               interpolation=\"nearest\")\n",
    "    plt.axis(\"off\")"
   ]
  },
  {
   "cell_type": "code",
   "execution_count": 4,
   "metadata": {},
   "outputs": [],
   "source": [
    "# spilt test data\n",
    "X_train = X[:60000]\n",
    "X_test = X[60000:]\n",
    "y_train = y[:60000]\n",
    "y_test = y[60000:]"
   ]
  },
  {
   "cell_type": "code",
   "execution_count": 5,
   "metadata": {},
   "outputs": [
    {
     "data": {
      "image/png": "[encoded data removed]",
      "text/plain": [
       "<Figure size 432x288 with 1 Axes>"
      ]
     },
     "metadata": {},
     "output_type": "display_data"
    }
   ],
   "source": [
    "test_digit = X[36000]\n",
    "plot_digit(test_digit)"
   ]
  },
  {
   "cell_type": "code",
   "execution_count": null,
   "metadata": {},
   "outputs": [],
   "source": [
    "# Add Scaler\n"
   ]
  },
  {
   "cell_type": "code",
   "execution_count": 6,
   "metadata": {},
   "outputs": [],
   "source": [
    "# Swift image function\n",
    "def swift_image(data, direction): # left-0 right-1 up-2 down-3\n",
    "    swifted_data = data.reshape(28, 28)\n",
    "    if direction == 0:\n",
    "        swifted_data = np.roll(swifted_data, -1, axis=1)\n",
    "    elif direction == 1:\n",
    "        swifted_data = np.roll(swifted_data, 1, axis=1)\n",
    "    elif direction == 2:\n",
    "        swifted_data = np.roll(swifted_data, -1, axis=0)\n",
    "    elif direction == 3:\n",
    "        swifted_data = np.roll(swifted_data, 1, axis=0)\n",
    "    return swifted_data.flatten()\n"
   ]
  },
  {
   "cell_type": "code",
   "execution_count": 7,
   "metadata": {
    "scrolled": false
   },
   "outputs": [],
   "source": [
    "# # test swift\n",
    "# test_digit = X[36000]\n",
    "# test_digit = swift_image(test_digit, 3)\n",
    "# test_digit = swift_image(test_digit, 3)\n",
    "# test_digit = swift_image(test_digit, 3)\n",
    "# test_digit = swift_image(test_digit, 3)\n",
    "# test_digit = swift_image(test_digit, 3)\n",
    "# test_digit = swift_image(test_digit, 3)\n",
    "# test_digit.shape\n",
    "# # plot_digit(test_digit)"
   ]
  },
  {
   "cell_type": "code",
   "execution_count": 8,
   "metadata": {
    "scrolled": true
   },
   "outputs": [
    {
     "name": "stdout",
     "output_type": "stream",
     "text": [
      "final row index 300000\n"
     ]
    }
   ],
   "source": [
    "# Create extend train set\n",
    "X_train_ext = np.zeros((np.size(X_train, 0) * 5, np.size(X_train, 1)))\n",
    "y_train_ext = np.zeros(np.size(y_train, 0) * 5)\n",
    "X_train_ext[:, 0]\n",
    "row_idx=0\n",
    "for image_data, label in zip(X_train, y_train):\n",
    "    y_train_ext[row_idx] = label\n",
    "    X_train_ext[row_idx, :] = image_data; row_idx+=1\n",
    "    y_train_ext[row_idx] = label\n",
    "    X_train_ext[row_idx, :] = swift_image(image_data, 0); row_idx+=1\n",
    "    y_train_ext[row_idx] = label\n",
    "    X_train_ext[row_idx, :] = swift_image(image_data, 1); row_idx+=1\n",
    "    y_train_ext[row_idx] = label\n",
    "    X_train_ext[row_idx, :] = swift_image(image_data, 2); row_idx+=1\n",
    "    y_train_ext[row_idx] = label\n",
    "    X_train_ext[row_idx, :] = swift_image(image_data, 3); row_idx+=1\n",
    "\n",
    "print(\"final row index\", row_idx)"
   ]
  },
  {
   "cell_type": "markdown",
   "metadata": {},
   "source": [
    "# SGDClassifier"
   ]
  },
  {
   "cell_type": "code",
   "execution_count": 15,
   "metadata": {},
   "outputs": [
    {
     "name": "stdout",
     "output_type": "stream",
     "text": [
      "[0.86157768 0.86489324 0.87918188]\n"
     ]
    }
   ],
   "source": [
    "from sklearn.model_selection import cross_val_score\n",
    "from sklearn.linear_model import SGDClassifier\n",
    "sgd_clf = SGDClassifier(random_state=42)"
   ]
  },
  {
   "cell_type": "code",
   "execution_count": 24,
   "metadata": {},
   "outputs": [
    {
     "name": "stdout",
     "output_type": "stream",
     "text": [
      "cross_val_scores: [0.86157768 0.86489324 0.87918188]\n",
      "predict accuracy: 0.8955\n",
      "precision:  0.8964802160049313\n",
      "recall:  0.8938850879372044\n",
      "f1 score: 0.8944628703919042\n"
     ]
    }
   ],
   "source": [
    "# Check original performance\n",
    "original_scores = cross_val_score(sgd_clf, X_train, y_train, cv=3, scoring=\"accuracy\")\n",
    "print(\"cross_val_scores:\", original_scores)\n",
    "\n",
    "# Train and test\n",
    "sgd_clf.fit(X_train, y_train)\n",
    "y_pred = sgd_clf.predict(X_test)\n",
    "n_correct = sum(y_pred == y_test)\n",
    "print(\"predict accuracy:\", n_correct / len(y_test))\n",
    "\n",
    "# F1 Score\n",
    "from sklearn.metrics import f1_score, precision_score, recall_score\n",
    "print(\"precision: \", precision_score(y_test, y_pred, average=\"macro\"))\n",
    "print(\"recall: \", recall_score(y_test, y_pred, average=\"macro\"))\n",
    "print(\"f1 score:\", f1_score(y_test, y_pred, average=\"macro\"))"
   ]
  },
  {
   "cell_type": "code",
   "execution_count": 25,
   "metadata": {},
   "outputs": [
    {
     "name": "stdout",
     "output_type": "stream",
     "text": [
      "cross_val_scores: [0.78798636 0.80360196 0.82171287]\n",
      "test accuracy: 0.8498\n",
      "precision:  0.8687424194626541\n",
      "recall:  0.8464048954000223\n",
      "f1 score: 0.8459745493899016\n"
     ]
    }
   ],
   "source": [
    "# Check performance with extend training set\n",
    "extend_scores = cross_val_score(sgd_clf, X_train_ext, y_train_ext, cv=3, scoring=\"accuracy\")\n",
    "print(\"cross_val_scores:\", extend_scores)\n",
    "\n",
    "# Train and test\n",
    "sgd_clf.fit(X_train_ext, y_train_ext)\n",
    "y_pred = sgd_clf.predict(X_test)\n",
    "n_correct = sum(y_pred == y_test)\n",
    "print(\"test accuracy:\", n_correct / len(y_test))\n",
    "\n",
    "# F1 Score\n",
    "print(\"precision: \", precision_score(y_test, y_pred, average=\"macro\"))\n",
    "print(\"recall: \", recall_score(y_test, y_pred, average=\"macro\"))\n",
    "print(\"f1 score:\", f1_score(y_test, y_pred, average=\"macro\"))"
   ]
  },
  {
   "cell_type": "markdown",
   "metadata": {},
   "source": [
    "# RandomForestClassifier"
   ]
  },
  {
   "cell_type": "code",
   "execution_count": 22,
   "metadata": {},
   "outputs": [],
   "source": [
    "from sklearn.ensemble import RandomForestClassifier\n",
    "forest_clf = RandomForestClassifier(random_state=42)"
   ]
  },
  {
   "cell_type": "code",
   "execution_count": 33,
   "metadata": {},
   "outputs": [
    {
     "name": "stdout",
     "output_type": "stream",
     "text": [
      "cross_val_score: [0.9365127  0.93934697 0.94234135]\n",
      "predict accuracy: 0.9455\n",
      "precision: 0.9447265382100563\n",
      "recall: 0.9448306821938915\n",
      "f1 score: 0.9446618420714483\n"
     ]
    }
   ],
   "source": [
    "# check original performance\n",
    "cv_scores = cross_val_score(forest_clf, X_train, y_train, cv=3, scoring=\"accuracy\")\n",
    "print(\"cross_val_score:\", cv_scores)\n",
    "\n",
    "forest_clf.fit(X_train, y_train)\n",
    "y_pred = forest_clf.predict(X_test)\n",
    "n_correct = sum(y_pred == y_test)\n",
    "print(\"predict accuracy:\", n_correct / len(y_test))\n",
    "\n",
    "print(\"precision:\", precision_score(y_pred, y_test, average=\"macro\"))\n",
    "print(\"recall:\", recall_score(y_pred, y_test, average=\"macro\"))\n",
    "print(\"f1 score:\", f1_score(y_pred, y_test, average=\"macro\"))"
   ]
  },
  {
   "cell_type": "code",
   "execution_count": 34,
   "metadata": {},
   "outputs": [
    {
     "name": "stdout",
     "output_type": "stream",
     "text": [
      "cross_val_score: [0.94941152 0.94823052 0.95025801]\n",
      "predict accuracy: 0.964\n",
      "precision: 0.9634269306078987\n",
      "recall: 0.9638818310206189\n",
      "f1 score: 0.9635992558107359\n"
     ]
    }
   ],
   "source": [
    "# check performance of extend training set\n",
    "cv_scores = cross_val_score(forest_clf, X_train_ext, y_train_ext, cv=3, scoring=\"accuracy\")\n",
    "print(\"cross_val_score:\", cv_scores)\n",
    "\n",
    "forest_clf.fit(X_train_ext, y_train_ext)\n",
    "y_pred = forest_clf.predict(X_test)\n",
    "n_correct = sum(y_pred == y_test)\n",
    "print(\"predict accuracy:\", n_correct / len(y_test))\n",
    "\n",
    "print(\"precision:\", precision_score(y_pred, y_test, average=\"macro\"))\n",
    "print(\"recall:\", recall_score(y_pred, y_test, average=\"macro\"))\n",
    "print(\"f1 score:\", f1_score(y_pred, y_test, average=\"macro\"))"
   ]
  },
  {
   "cell_type": "markdown",
   "metadata": {},
   "source": [
    "# 结论：不同算法的特性不一样\n",
    "#### SGDClassifier在使用扩展训练集之后的性能反而下降\n",
    "#### RandomForestClassifier在使用扩展训练集之后性能有所提高"
   ]
  },
  {
   "cell_type": "code",
   "execution_count": null,
   "metadata": {},
   "outputs": [],
   "source": []
  }
 ],
 "metadata": {
  "kernelspec": {
   "display_name": "Python 3",
   "language": "python",
   "name": "python3"
  },
  "language_info": {
   "codemirror_mode": {
    "name": "ipython",
    "version": 3
   },
   "file_extension": ".py",
   "mimetype": "text/x-python",
   "name": "python",
   "nbconvert_exporter": "python",
   "pygments_lexer": "ipython3",
   "version": "3.6.5"
  }
 },
 "nbformat": 4,
 "nbformat_minor": 2
}
