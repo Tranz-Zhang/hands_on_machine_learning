{
 "cells": [
  {
   "cell_type": "code",
   "execution_count": 7,
   "metadata": {},
   "outputs": [],
   "source": [
    "import numpy as np\n",
    "import pandas as pd\n",
    "import matplotlib\n",
    "import matplotlib.pyplot as plt"
   ]
  },
  {
   "cell_type": "code",
   "execution_count": 5,
   "metadata": {},
   "outputs": [],
   "source": [
    "from sklearn.datasets import fetch_mldata\n",
    "mnist = fetch_mldata(\"MNIST original\")\n",
    "X, y = mnist['data'], mnist['target']"
   ]
  },
  {
   "cell_type": "code",
   "execution_count": 8,
   "metadata": {},
   "outputs": [],
   "source": [
    "def plot_digit(data):\n",
    "    image = data.reshape(28, 28)\n",
    "    plt.imshow(image, cmap = matplotlib.cm.binary,\n",
    "               interpolation=\"nearest\")\n",
    "    plt.axis(\"off\")"
   ]
  },
  {
   "cell_type": "code",
   "execution_count": 10,
   "metadata": {},
   "outputs": [],
   "source": [
    "# spilt test data\n",
    "X_train = X[:60000]\n",
    "X_test = X[60000:]\n",
    "y_train = y[:60000]\n",
    "y_test = y[60000:]"
   ]
  },
  {
   "cell_type": "code",
   "execution_count": 34,
   "metadata": {},
   "outputs": [
    {
     "data": {
      "image/png": "[encoded data removed]",
      "text/plain": [
       "<Figure size 432x288 with 1 Axes>"
      ]
     },
     "metadata": {},
     "output_type": "display_data"
    }
   ],
   "source": [
    "test_digit = X[36000]\n",
    "plot_digit(test_digit)"
   ]
  },
  {
   "cell_type": "code",
   "execution_count": 97,
   "metadata": {},
   "outputs": [],
   "source": [
    "# Swift image function\n",
    "def swift_image(data, direction): # left-0 right-1 up-2 down-3\n",
    "    swifted_data = data.reshape(28, 28)\n",
    "    if direction == 0:\n",
    "        swifted_data = np.roll(swifted_data, -1, axis=1)\n",
    "    elif direction == 1:\n",
    "        swifted_data = np.roll(swifted_data, 1, axis=1)\n",
    "    elif direction == 2:\n",
    "        swifted_data = np.roll(swifted_data, -1, axis=0)\n",
    "    elif direction == 3:\n",
    "        swifted_data = np.roll(swifted_data, 1, axis=0)\n",
    "    return swifted_data.flatten()\n"
   ]
  },
  {
   "cell_type": "code",
   "execution_count": 96,
   "metadata": {
    "scrolled": false
   },
   "outputs": [
    {
     "data": {
      "text/plain": [
       "(784,)"
      ]
     },
     "execution_count": 96,
     "metadata": {},
     "output_type": "execute_result"
    }
   ],
   "source": [
    "# # test swift\n",
    "# test_digit = X[36000]\n",
    "# test_digit = swift_image(test_digit, 3)\n",
    "# test_digit = swift_image(test_digit, 3)\n",
    "# test_digit = swift_image(test_digit, 3)\n",
    "# test_digit = swift_image(test_digit, 3)\n",
    "# test_digit = swift_image(test_digit, 3)\n",
    "# test_digit = swift_image(test_digit, 3)\n",
    "# test_digit.shape\n",
    "# # plot_digit(test_digit)"
   ]
  },
  {
   "cell_type": "code",
   "execution_count": 99,
   "metadata": {
    "scrolled": true
   },
   "outputs": [
    {
     "name": "stdout",
     "output_type": "stream",
     "text": [
      "final row index 300000\n"
     ]
    }
   ],
   "source": [
    "# Create extend train set\n",
    "X_train_ext = np.zeros((np.size(X_train, 0) * 5, np.size(X_train, 1)))\n",
    "y_train_ext = np.zeros(np.size(y_train, 0) * 5)\n",
    "X_train_ext[:, 0]\n",
    "row_idx=0\n",
    "for image_data, label in zip(X_train, y_train):\n",
    "    y_train_ext[row_idx] = label\n",
    "    X_train_ext[row_idx, :] = image_data; row_idx+=1\n",
    "    y_train_ext[row_idx] = label\n",
    "    X_train_ext[row_idx, :] = swift_image(image_data, 0); row_idx+=1\n",
    "    y_train_ext[row_idx] = label\n",
    "    X_train_ext[row_idx, :] = swift_image(image_data, 1); row_idx+=1\n",
    "    y_train_ext[row_idx] = label\n",
    "    X_train_ext[row_idx, :] = swift_image(image_data, 2); row_idx+=1\n",
    "    y_train_ext[row_idx] = label\n",
    "    X_train_ext[row_idx, :] = swift_image(image_data, 3); row_idx+=1\n",
    "\n",
    "print(\"final row index\", row_idx)"
   ]
  },
  {
   "cell_type": "code",
   "execution_count": null,
   "metadata": {},
   "outputs": [],
   "source": [
    "# Check original performance"
   ]
  }
 ],
 "metadata": {
  "kernelspec": {
   "display_name": "Python 3",
   "language": "python",
   "name": "python3"
  },
  "language_info": {
   "codemirror_mode": {
    "name": "ipython",
    "version": 3
   },
   "file_extension": ".py",
   "mimetype": "text/x-python",
   "name": "python",
   "nbconvert_exporter": "python",
   "pygments_lexer": "ipython3",
   "version": "3.6.5"
  }
 },
 "nbformat": 4,
 "nbformat_minor": 2
}
