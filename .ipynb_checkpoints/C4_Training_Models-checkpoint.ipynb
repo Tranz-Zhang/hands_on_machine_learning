{
 "cells": [
  {
   "cell_type": "code",
   "execution_count": 33,
   "metadata": {},
   "outputs": [],
   "source": [
    "# ignore warnings\n",
    "import warnings\n",
    "warnings.simplefilter(action='ignore', category=FutureWarning)\n",
    "\n",
    "# import basic tools\n",
    "import numpy as np\n",
    "\n",
    "%matplotlib inline\n",
    "import matplotlib\n",
    "import matplotlib.pyplot as plt"
   ]
  },
  {
   "cell_type": "markdown",
   "metadata": {},
   "source": [
    "# Part1: Linear Regression"
   ]
  },
  {
   "cell_type": "markdown",
   "metadata": {},
   "source": [
    "## Prepare Data"
   ]
  },
  {
   "cell_type": "code",
   "execution_count": 151,
   "metadata": {},
   "outputs": [],
   "source": [
    "# Crate random linear data\n",
    "X = 2 * np.random.rand(100, 1)\n",
    "y = 4 + 3 * X + np.random.randn(100, 1)\n",
    "m = 100"
   ]
  },
  {
   "cell_type": "code",
   "execution_count": 152,
   "metadata": {},
   "outputs": [
    {
     "data": {
      "image/png": "[encoded data removed]",
      "text/plain": [
       "<Figure size 432x288 with 1 Axes>"
      ]
     },
     "metadata": {},
     "output_type": "display_data"
    }
   ],
   "source": [
    "# plot random data\n",
    "plt.plot(X, y, 'b.')\n",
    "plt.show()"
   ]
  },
  {
   "cell_type": "markdown",
   "metadata": {},
   "source": [
    "## The Normal Equation"
   ]
  },
  {
   "cell_type": "code",
   "execution_count": 153,
   "metadata": {},
   "outputs": [
    {
     "data": {
      "text/plain": [
       "array([[4.23060927],\n",
       "       [2.90659784]])"
      ]
     },
     "execution_count": 153,
     "metadata": {},
     "output_type": "execute_result"
    }
   ],
   "source": [
    "# Calculate theta by normal equation\n",
    "X_b = np.c_[np.ones((100, 1)), X] # add x0 to each instance\n",
    "theta_best = np.linalg.inv(X_b.T.dot(X_b)).dot(X_b.T).dot(y)\n",
    "theta_best"
   ]
  },
  {
   "cell_type": "code",
   "execution_count": 154,
   "metadata": {},
   "outputs": [
    {
     "data": {
      "text/plain": [
       "array([[ 4.23060927],\n",
       "       [10.04380495]])"
      ]
     },
     "execution_count": 154,
     "metadata": {},
     "output_type": "execute_result"
    }
   ],
   "source": [
    "# make prediction\n",
    "X_new = np.array([[0], [2]])            # X轴最左边和最右边的值\n",
    "X_new_b = np.c_[np.ones((2, 1)), X_new] # 为了预测添加Theta0\n",
    "y_predict = X_new_b.dot(theta_best)     # 2x2 * 2x1\n",
    "y_predict"
   ]
  },
  {
   "cell_type": "code",
   "execution_count": 51,
   "metadata": {},
   "outputs": [
    {
     "data": {
      "text/plain": [
       "<matplotlib.legend.Legend at 0x107b85b70>"
      ]
     },
     "execution_count": 51,
     "metadata": {},
     "output_type": "execute_result"
    },
    {
     "data": {
      "image/png": "[encoded data removed]",
      "text/plain": [
       "<Figure size 432x288 with 1 Axes>"
      ]
     },
     "metadata": {},
     "output_type": "display_data"
    }
   ],
   "source": [
    "# plot prediction\n",
    "plt.plot(X_new, y_predict, 'r-', label='Prediction')\n",
    "plt.plot(X, y, 'b.')\n",
    "plt.axis([0, 2, 0, 15])\n",
    "plt.xlabel('X')\n",
    "plt.ylabel('y')\n",
    "# plt.show()\n",
    "plt.legend() # 为了显示图例label使用"
   ]
  },
  {
   "cell_type": "code",
   "execution_count": 155,
   "metadata": {},
   "outputs": [
    {
     "data": {
      "text/plain": [
       "array([[ 4.23060927],\n",
       "       [10.04380495]])"
      ]
     },
     "execution_count": 155,
     "metadata": {},
     "output_type": "execute_result"
    }
   ],
   "source": [
    "# Using LinearRegression in sklearn\n",
    "from sklearn.linear_model import LinearRegression\n",
    "lin_reg = LinearRegression()\n",
    "lin_reg.fit(X, y)\n",
    "lin_reg.predict(X_new)"
   ]
  },
  {
   "cell_type": "markdown",
   "metadata": {},
   "source": [
    "#### Note: Computational Complexity\n",
    "\n",
    "The computational complexity of inverting such a matrix is typically about O(n2.4) to O(n3) (depending on the implementation). \n",
    "\n",
    "The Normal Equation gets very slow when the number of features grows large (e.g., 100,000)."
   ]
  },
  {
   "cell_type": "markdown",
   "metadata": {},
   "source": [
    "## Batch Gradient Descent"
   ]
  },
  {
   "cell_type": "code",
   "execution_count": 164,
   "metadata": {},
   "outputs": [
    {
     "name": "stdout",
     "output_type": "stream",
     "text": [
      "theta:\n",
      " [[4.23060927]\n",
      " [2.90659784]]\n",
      "predict:\n",
      " [[ 4.23060927]\n",
      " [10.04380495]]\n"
     ]
    }
   ],
   "source": [
    "eta = 0.1 # learning rate\n",
    "n_iterations = 1000\n",
    "\n",
    "theta = np.random.randn(2, 1) # random initialization\n",
    "bgd_hypothesis = []\n",
    "for iteration in range(n_iterations):\n",
    "    # 计算Gradient，这里每次会对所有X数据进行处理，因此在训练数据很多的情况下，\n",
    "    # 效率比较差(Batch Gradient Descent)，但可以同时进行很多feature的计算，这点上比Normal Equation要好\n",
    "    gradients = 2 / m * X_b.T.dot(X_b.dot(theta) - y) \n",
    "    theta = theta - eta * gradients\n",
    "    # 采集递减过程的数据，用于展示图形\n",
    "    std_error = sum(2 / m * np.sqrt(np.power(X_b.dot(theta) - y, 2)))\n",
    "    bgd_hypothesis.append(std_error)\n",
    "print(\"theta:\\n\", theta)\n",
    "print(\"predict:\\n\", X_new_b.dot(theta))"
   ]
  },
  {
   "cell_type": "code",
   "execution_count": 165,
   "metadata": {},
   "outputs": [
    {
     "data": {
      "image/png": "[encoded data removed]",
      "text/plain": [
       "<Figure size 432x288 with 1 Axes>"
      ]
     },
     "metadata": {},
     "output_type": "display_data"
    }
   ],
   "source": [
    "# 这里的学习曲线下降非常快导致看起来像一条直线...\n",
    "plt.plot(range(n_iterations), bgd_hypothesis, 'b-')\n",
    "plt.ylabel(\"hypothesis\")\n",
    "plt.show()"
   ]
  },
  {
   "cell_type": "markdown",
   "metadata": {},
   "source": [
    "## Stochastic Gradient Descent\n",
    "\n",
    "Stochastic Gradient Descent just picks a random instance in the training set at every step and computes the gradients based only on that single instance."
   ]
  },
  {
   "cell_type": "code",
   "execution_count": 183,
   "metadata": {},
   "outputs": [
    {
     "name": "stdout",
     "output_type": "stream",
     "text": [
      "theta:\n",
      " [[4.2274591 ]\n",
      " [2.91974885]]\n",
      "predict:\n",
      " [[ 4.2274591]\n",
      " [10.0669568]]\n"
     ]
    }
   ],
   "source": [
    "n_epochs = 50\n",
    "t0, t1 = 5, 50 # learning schedule hyperparamaters\n",
    "\n",
    "def learning_schedule(t): # learning rate 逐步递减, 基数为 5/50\n",
    "    return t0 / (t + t1)\n",
    "\n",
    "theta = np.random.randn(2, 1) # random initialization\n",
    "\n",
    "sgd_hypothesis = []\n",
    "for epoch in range(n_epochs):\n",
    "    # 采集递减过程的数据，用于展示图形\n",
    "    std_error = sum(2 / m * np.sqrt(np.power(X_b.dot(theta) - y, 2)))\n",
    "    sgd_hypothesis.append(std_error)\n",
    "    \n",
    "    # 每轮遍历会逐步扩大随机取值范围直到所有训练数据\n",
    "    for i in range(m):\n",
    "        # 随机取一组相邻数值计算Gradient\n",
    "        random_index = np.random.randint(m)\n",
    "        xi = X_b[random_index:random_index+1]\n",
    "        yi = y[random_index:random_index+1]\n",
    "        gradients = 2 * xi.T.dot(xi.dot(theta) - yi)\n",
    "        eta = learning_schedule(epoch * m + i)\n",
    "        theta = theta - eta * gradients\n",
    "\n",
    "print(\"theta:\\n\", theta)\n",
    "print(\"predict:\\n\", X_new_b.dot(theta))"
   ]
  },
  {
   "cell_type": "code",
   "execution_count": 184,
   "metadata": {},
   "outputs": [
    {
     "data": {
      "text/plain": [
       "<matplotlib.legend.Legend at 0x104036400>"
      ]
     },
     "execution_count": 184,
     "metadata": {},
     "output_type": "execute_result"
    },
    {
     "data": {
      "image/png": "[encoded data removed]",
      "text/plain": [
       "<Figure size 432x288 with 1 Axes>"
      ]
     },
     "metadata": {},
     "output_type": "display_data"
    }
   ],
   "source": [
    "plt.plot(range(n_epochs), bgd_hypothesis[:n_epochs], 'b-', label='BGD')\n",
    "plt.plot(range(n_epochs), sgd_hypothesis, 'g-', label='SGD')\n",
    "plt.title('BGD vs SGD')\n",
    "plt.ylabel('Hypothesis')\n",
    "plt.legend()"
   ]
  },
  {
   "cell_type": "markdown",
   "metadata": {},
   "source": [
    "### BGD & SGD 在相近效果下的对比\n",
    "Batch Gradient Descent 遍历1000遍，每轮遍历需要计算所有100个训练数据\n",
    "\n",
    "Stochastic Gradient Descent 只需遍历50遍，每轮遍历所随机取100个训练数据"
   ]
  },
  {
   "cell_type": "code",
   "execution_count": null,
   "metadata": {},
   "outputs": [],
   "source": []
  }
 ],
 "metadata": {
  "kernelspec": {
   "display_name": "Python 3",
   "language": "python",
   "name": "python3"
  },
  "language_info": {
   "codemirror_mode": {
    "name": "ipython",
    "version": 3
   },
   "file_extension": ".py",
   "mimetype": "text/x-python",
   "name": "python",
   "nbconvert_exporter": "python",
   "pygments_lexer": "ipython3",
   "version": "3.6.5"
  }
 },
 "nbformat": 4,
 "nbformat_minor": 2
}
