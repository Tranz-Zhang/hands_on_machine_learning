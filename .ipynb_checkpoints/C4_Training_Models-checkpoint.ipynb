{
 "cells": [
  {
   "cell_type": "code",
   "execution_count": 1,
   "metadata": {},
   "outputs": [],
   "source": [
    "# ignore warnings\n",
    "import warnings\n",
    "warnings.simplefilter(action='ignore', category=FutureWarning)\n",
    "\n",
    "# import basic tools\n",
    "import numpy as np\n",
    "\n",
    "%matplotlib inline\n",
    "import matplotlib\n",
    "import matplotlib.pyplot as plt"
   ]
  },
  {
   "cell_type": "markdown",
   "metadata": {},
   "source": [
    "# Part1: Linear Regression"
   ]
  },
  {
   "cell_type": "markdown",
   "metadata": {},
   "source": [
    "## Prepare Data"
   ]
  },
  {
   "cell_type": "code",
   "execution_count": 2,
   "metadata": {},
   "outputs": [],
   "source": [
    "# Crate random linear data\n",
    "X = 2 * np.random.rand(100, 1)\n",
    "y = 4 + 3 * X + np.random.randn(100, 1)\n",
    "m = 100"
   ]
  },
  {
   "cell_type": "code",
   "execution_count": 3,
   "metadata": {},
   "outputs": [
    {
     "data": {
      "image/png": "[encoded data removed]",
      "text/plain": [
       "<Figure size 432x288 with 1 Axes>"
      ]
     },
     "metadata": {},
     "output_type": "display_data"
    }
   ],
   "source": [
    "# plot random data\n",
    "plt.plot(X, y, 'b.')\n",
    "plt.show()"
   ]
  },
  {
   "cell_type": "markdown",
   "metadata": {},
   "source": [
    "## The Normal Equation"
   ]
  },
  {
   "cell_type": "code",
   "execution_count": 4,
   "metadata": {},
   "outputs": [
    {
     "data": {
      "text/plain": [
       "array([[4.22901905],\n",
       "       [2.69757828]])"
      ]
     },
     "execution_count": 4,
     "metadata": {},
     "output_type": "execute_result"
    }
   ],
   "source": [
    "# Calculate theta by normal equation\n",
    "X_b = np.c_[np.ones((100, 1)), X] # add x0 to each instance\n",
    "theta_best = np.linalg.inv(X_b.T.dot(X_b)).dot(X_b.T).dot(y)\n",
    "theta_best"
   ]
  },
  {
   "cell_type": "code",
   "execution_count": 5,
   "metadata": {},
   "outputs": [
    {
     "data": {
      "text/plain": [
       "array([[4.22901905],\n",
       "       [9.62417561]])"
      ]
     },
     "execution_count": 5,
     "metadata": {},
     "output_type": "execute_result"
    }
   ],
   "source": [
    "# make prediction\n",
    "X_new = np.array([[0], [2]])            # X轴最左边和最右边的值\n",
    "X_new_b = np.c_[np.ones((2, 1)), X_new] # 为了预测添加Theta0\n",
    "y_predict = X_new_b.dot(theta_best)     # 2x2 * 2x1\n",
    "y_predict"
   ]
  },
  {
   "cell_type": "code",
   "execution_count": 6,
   "metadata": {},
   "outputs": [
    {
     "data": {
      "text/plain": [
       "<matplotlib.legend.Legend at 0x112ced860>"
      ]
     },
     "execution_count": 6,
     "metadata": {},
     "output_type": "execute_result"
    },
    {
     "data": {
      "image/png": "[encoded data removed]",
      "text/plain": [
       "<Figure size 432x288 with 1 Axes>"
      ]
     },
     "metadata": {},
     "output_type": "display_data"
    }
   ],
   "source": [
    "# plot prediction\n",
    "plt.plot(X_new, y_predict, 'r-', label='Prediction')\n",
    "plt.plot(X, y, 'b.')\n",
    "plt.axis([0, 2, 0, 15])\n",
    "plt.xlabel('X')\n",
    "plt.ylabel('y')\n",
    "# plt.show()\n",
    "plt.legend() # 为了显示图例label使用"
   ]
  },
  {
   "cell_type": "code",
   "execution_count": 7,
   "metadata": {},
   "outputs": [
    {
     "name": "stderr",
     "output_type": "stream",
     "text": [
      "/usr/local/lib/python3.6/site-packages/scipy/linalg/basic.py:1226: RuntimeWarning: internal gelsd driver lwork query error, required iwork dimension not returned. This is likely the result of LAPACK bug 0038, fixed in LAPACK 3.2.2 (released July 21, 2010). Falling back to 'gelss' driver.\n",
      "  warnings.warn(mesg, RuntimeWarning)\n"
     ]
    },
    {
     "data": {
      "text/plain": [
       "array([[4.22901905],\n",
       "       [9.62417561]])"
      ]
     },
     "execution_count": 7,
     "metadata": {},
     "output_type": "execute_result"
    }
   ],
   "source": [
    "# Using LinearRegression in sklearn\n",
    "from sklearn.linear_model import LinearRegression\n",
    "lin_reg = LinearRegression()\n",
    "lin_reg.fit(X, y)\n",
    "lin_reg.predict(X_new)"
   ]
  },
  {
   "cell_type": "markdown",
   "metadata": {},
   "source": [
    "#### Note: Computational Complexity\n",
    "\n",
    "The computational complexity of inverting such a matrix is typically about O(n2.4) to O(n3) (depending on the implementation). \n",
    "\n",
    "The Normal Equation gets very slow when the number of features grows large (e.g., 100,000)."
   ]
  },
  {
   "cell_type": "markdown",
   "metadata": {},
   "source": [
    "## Batch Gradient Descent"
   ]
  },
  {
   "cell_type": "code",
   "execution_count": 8,
   "metadata": {},
   "outputs": [
    {
     "name": "stdout",
     "output_type": "stream",
     "text": [
      "theta:\n",
      " [[4.22901905]\n",
      " [2.69757828]]\n",
      "predict:\n",
      " [[4.22901905]\n",
      " [9.62417561]]\n"
     ]
    }
   ],
   "source": [
    "eta = 0.1 # learning rate\n",
    "n_iterations = 1000\n",
    "\n",
    "theta = np.random.randn(2, 1) # random initialization\n",
    "bgd_hypothesis = []\n",
    "for iteration in range(n_iterations):\n",
    "    # 计算Gradient，这里每次会对所有X数据进行处理，因此在训练数据很多的情况下，\n",
    "    # 效率比较差(Batch Gradient Descent)，但可以同时进行很多feature的计算，这点上比Normal Equation要好\n",
    "    gradients = 2 / m * X_b.T.dot(X_b.dot(theta) - y) \n",
    "    theta = theta - eta * gradients\n",
    "    # 采集递减过程的数据，用于展示图形\n",
    "    std_error = sum(2 / m * np.sqrt(np.power(X_b.dot(theta) - y, 2)))\n",
    "    bgd_hypothesis.append(std_error)\n",
    "print(\"theta:\\n\", theta)\n",
    "print(\"predict:\\n\", X_new_b.dot(theta))"
   ]
  },
  {
   "cell_type": "code",
   "execution_count": 9,
   "metadata": {},
   "outputs": [
    {
     "data": {
      "image/png": "[encoded data removed]",
      "text/plain": [
       "<Figure size 432x288 with 1 Axes>"
      ]
     },
     "metadata": {},
     "output_type": "display_data"
    }
   ],
   "source": [
    "# 这里的学习曲线下降非常快导致看起来像一条直线...\n",
    "plt.plot(range(n_iterations), bgd_hypothesis, 'b-')\n",
    "plt.ylabel(\"hypothesis\")\n",
    "plt.show()"
   ]
  },
  {
   "cell_type": "markdown",
   "metadata": {},
   "source": [
    "## Stochastic Gradient Descent\n",
    "\n",
    "Stochastic Gradient Descent just picks a random instance in the training set at every step and computes the gradients based only on that single instance."
   ]
  },
  {
   "cell_type": "code",
   "execution_count": 10,
   "metadata": {},
   "outputs": [
    {
     "name": "stdout",
     "output_type": "stream",
     "text": [
      "theta:\n",
      " [[4.2294873 ]\n",
      " [2.74131661]]\n",
      "predict:\n",
      " [[4.2294873 ]\n",
      " [9.71212052]]\n"
     ]
    }
   ],
   "source": [
    "n_epochs = 50\n",
    "t0, t1 = 5, 50 # learning schedule hyperparamaters\n",
    "\n",
    "def learning_schedule(t): # learning rate 逐步递减, 基数为 5/50\n",
    "    return t0 / (t + t1)\n",
    "\n",
    "theta = np.random.randn(2, 1) # random initialization\n",
    "\n",
    "sgd_hypothesis = []\n",
    "for epoch in range(n_epochs):\n",
    "    # 采集递减过程的数据，用于展示图形\n",
    "    std_error = sum(2 / m * np.sqrt(np.power(X_b.dot(theta) - y, 2)))\n",
    "    sgd_hypothesis.append(std_error)\n",
    "    \n",
    "    # 每轮遍历会逐步扩大随机取值范围直到所有训练数据\n",
    "    for i in range(m):\n",
    "        # 随机取一组相邻数值计算Gradient\n",
    "        random_index = np.random.randint(m)\n",
    "        xi = X_b[random_index:random_index+1]\n",
    "        yi = y[random_index:random_index+1]\n",
    "        gradients = 2 * xi.T.dot(xi.dot(theta) - yi)\n",
    "        eta = learning_schedule(epoch * m + i)\n",
    "        theta = theta - eta * gradients\n",
    "\n",
    "print(\"theta:\\n\", theta)\n",
    "print(\"predict:\\n\", X_new_b.dot(theta))"
   ]
  },
  {
   "cell_type": "code",
   "execution_count": 11,
   "metadata": {},
   "outputs": [
    {
     "data": {
      "text/plain": [
       "<matplotlib.legend.Legend at 0x1169294a8>"
      ]
     },
     "execution_count": 11,
     "metadata": {},
     "output_type": "execute_result"
    },
    {
     "data": {
      "image/png": "[encoded data removed]",
      "text/plain": [
       "<Figure size 432x288 with 1 Axes>"
      ]
     },
     "metadata": {},
     "output_type": "display_data"
    }
   ],
   "source": [
    "plt.plot(range(n_epochs), bgd_hypothesis[:n_epochs], 'b-', label='BGD')\n",
    "plt.plot(range(n_epochs), sgd_hypothesis, 'g-', label='SGD')\n",
    "plt.title('BGD vs SGD')\n",
    "plt.ylabel('Hypothesis')\n",
    "plt.xlabel('Iteration number')\n",
    "plt.legend()"
   ]
  },
  {
   "cell_type": "markdown",
   "metadata": {},
   "source": [
    "### BGD & SGD 在相近效果下的对比\n",
    "Batch Gradient Descent 遍历1000遍，每轮遍历需要计算所有100个训练数据\n",
    "\n",
    "Stochastic Gradient Descent 只需遍历50遍，每轮遍历所随机取100个训练数据"
   ]
  },
  {
   "cell_type": "code",
   "execution_count": 12,
   "metadata": {},
   "outputs": [
    {
     "data": {
      "text/plain": [
       "array([4.35562074, 9.85640926])"
      ]
     },
     "execution_count": 12,
     "metadata": {},
     "output_type": "execute_result"
    }
   ],
   "source": [
    "# Using SGD in sklearn\n",
    "from sklearn.linear_model import SGDRegressor\n",
    "sgd_reg = SGDRegressor(max_iter=50, penalty=None, eta0=0.1)\n",
    "sgd_reg.fit(X_b, y.ravel()) # y.ravel()降维作用\n",
    "sgd_reg.predict(X_new_b)"
   ]
  },
  {
   "cell_type": "markdown",
   "metadata": {},
   "source": [
    "## Mini-batch Gradient Descent\n",
    "\n",
    "Mini-batch Gradient Descent结合了BGD和SGD的特性，每轮遍历随机选取一小组数据进行Gradient计算\n",
    "\n",
    "我们可以通过矩阵来进行多个数据的计算，这种矩阵计算可以利用硬件进行加速"
   ]
  },
  {
   "cell_type": "code",
   "execution_count": 13,
   "metadata": {},
   "outputs": [
    {
     "name": "stdout",
     "output_type": "stream",
     "text": [
      "theta:\n",
      " [[4.22788351]\n",
      " [2.69745141]]\n",
      "predict:\n",
      " [[4.22788351]\n",
      " [9.62278633]]\n"
     ]
    }
   ],
   "source": [
    "mini_batch_size = 10\n",
    "\n",
    "theta = np.random.randn(2, 1) # random initialization\n",
    "mgd_hypothesis = []\n",
    "\n",
    "for epoch in range(n_epochs):\n",
    "    # 采集递减过程的数据，用于展示图形\n",
    "    std_error = sum(2 / m * np.sqrt(np.power(X_b.dot(theta) - y, 2)))\n",
    "    mgd_hypothesis.append(std_error)\n",
    "    \n",
    "    # 每轮遍历会逐步扩大随机取值范围直到所有训练数据\n",
    "    for i in range(m):\n",
    "        # 随机取一组相邻数值计算Gradient\n",
    "        batch_count = min(max(i, 2), mini_batch_size)\n",
    "        random_indices = np.random.permutation(m)[:batch_count]\n",
    "        Xi = X_b[random_indices]\n",
    "        yi = y[random_indices]\n",
    "        gradients = 2 / batch_count * Xi.T.dot(Xi.dot(theta) - yi)\n",
    "        eta = learning_schedule(epoch * m + i)\n",
    "        theta = theta - eta * gradients\n",
    "    \n",
    "print(\"theta:\\n\", theta)\n",
    "print(\"predict:\\n\", X_new_b.dot(theta))"
   ]
  },
  {
   "cell_type": "code",
   "execution_count": 14,
   "metadata": {
    "scrolled": true
   },
   "outputs": [
    {
     "data": {
      "text/plain": [
       "<matplotlib.legend.Legend at 0x116999668>"
      ]
     },
     "execution_count": 14,
     "metadata": {},
     "output_type": "execute_result"
    },
    {
     "data": {
      "image/png": "[encoded data removed]",
      "text/plain": [
       "<Figure size 432x288 with 1 Axes>"
      ]
     },
     "metadata": {},
     "output_type": "display_data"
    }
   ],
   "source": [
    "plt.plot(range(n_epochs), bgd_hypothesis[:n_epochs], 'b-', label='BGD')\n",
    "plt.plot(range(n_epochs), sgd_hypothesis, 'g-', label='SGD')\n",
    "plt.plot(range(n_epochs), mgd_hypothesis, 'r-', label='MGD')\n",
    "plt.title('BGD vs SGD vc MGD')\n",
    "plt.ylabel('Hypothesis')\n",
    "plt.xlabel('Iteration number')\n",
    "plt.legend()"
   ]
  },
  {
   "cell_type": "markdown",
   "metadata": {},
   "source": [
    "Mini-batch的递减曲线与SGD相近，但会比SGD更快接近最优值，同时最后的波动会比SGD小"
   ]
  },
  {
   "cell_type": "markdown",
   "metadata": {},
   "source": [
    "## Polynomial Regression"
   ]
  },
  {
   "cell_type": "code",
   "execution_count": 15,
   "metadata": {},
   "outputs": [],
   "source": [
    "m = 100\n",
    "X = 6 * np.random.rand(m, 1) - 3\n",
    "y = 0.5 * X**2 + X + 2 + np.random.randn(m, 1)"
   ]
  },
  {
   "cell_type": "code",
   "execution_count": 16,
   "metadata": {},
   "outputs": [
    {
     "data": {
      "image/png": "[encoded data removed]",
      "text/plain": [
       "<Figure size 432x288 with 1 Axes>"
      ]
     },
     "metadata": {},
     "output_type": "display_data"
    }
   ],
   "source": [
    "plt.plot(X, y, 'b.')\n",
    "plt.show()"
   ]
  },
  {
   "cell_type": "code",
   "execution_count": 17,
   "metadata": {},
   "outputs": [
    {
     "name": "stdout",
     "output_type": "stream",
     "text": [
      "X_ploy[0]: [2.92711287 8.56798973] X[0]: [2.92711287]\n"
     ]
    }
   ],
   "source": [
    "# 多项式特征集转换，生成更多的feature值\n",
    "# 比如：一个输入样本是２维的。形式如[a,b] ,则二阶多项式的特征集如下[1,a,b,a^2,ab,b^2]\n",
    "from sklearn.preprocessing import PolynomialFeatures\n",
    "ploy_features = PolynomialFeatures(degree=2, include_bias=False)\n",
    "X_ploy = ploy_features.fit_transform(X)\n",
    "print(\"X_ploy[0]:\", X_ploy[0], \"X[0]:\", X[0])"
   ]
  },
  {
   "cell_type": "code",
   "execution_count": 18,
   "metadata": {},
   "outputs": [
    {
     "name": "stdout",
     "output_type": "stream",
     "text": [
      "[2.10719299] [[1.08428213 0.45978362]]\n"
     ]
    }
   ],
   "source": [
    "lin_reg = LinearRegression()\n",
    "lin_reg.fit(X_ploy, y)\n",
    "print(lin_reg.intercept_, lin_reg.coef_)"
   ]
  },
  {
   "cell_type": "code",
   "execution_count": 19,
   "metadata": {},
   "outputs": [
    {
     "data": {
      "image/png": "[encoded data removed]",
      "text/plain": [
       "<Figure size 432x288 with 1 Axes>"
      ]
     },
     "metadata": {},
     "output_type": "display_data"
    }
   ],
   "source": [
    "# 显示预测图像\n",
    "def plot_prediction_line(X, y, y_pred):\n",
    "    X_sorted = []\n",
    "    y_sorted = []\n",
    "    for x_value, y_value in sorted(zip(X, y_pred)):\n",
    "        X_sorted.append(x_value)\n",
    "        y_sorted.append(y_value)\n",
    "    plt.plot(X, y, 'b.')\n",
    "    plt.plot(X_sorted, y_sorted, 'r-')\n",
    "    plt.show()\n",
    "plot_prediction_line(X, y, lin_reg.predict(X_ploy).flatten())"
   ]
  },
  {
   "cell_type": "markdown",
   "metadata": {},
   "source": [
    "## Learning Curve\n",
    "\n",
    "用于决定模型是overfitting还是underfitting"
   ]
  },
  {
   "cell_type": "code",
   "execution_count": 20,
   "metadata": {},
   "outputs": [],
   "source": [
    "from sklearn.metrics import mean_squared_error\n",
    "from sklearn.model_selection import train_test_split\n",
    "\n",
    "def plot_learning_curves(model, X, y):\n",
    "    X_train, X_val, y_train, y_val = train_test_split(X, y, test_size=0.2)\n",
    "    train_errors, val_errors = [], []\n",
    "    for m in range(1, len(X_train)):\n",
    "        model.fit(X_train[:m], y_train[:m])\n",
    "        y_train_predict = model.predict(X_train[:m])\n",
    "        y_val_predict = model.predict(X_val)\n",
    "        train_errors.append(mean_squared_error(y_train[:m], y_train_predict))\n",
    "        val_errors.append(mean_squared_error(y_val_predict, y_val))\n",
    "    plt.plot(np.sqrt(train_errors), 'r-+', linewidth=2, label=\"train\")\n",
    "    plt.plot(np.sqrt(val_errors), 'b-', linewidth=2, label=\"val\")\n",
    "    plt.ylim(0, 3)\n",
    "    plt.legend()"
   ]
  },
  {
   "cell_type": "code",
   "execution_count": 21,
   "metadata": {},
   "outputs": [
    {
     "data": {
      "image/png": "[encoded data removed]",
      "text/plain": [
       "<Figure size 432x288 with 1 Axes>"
      ]
     },
     "metadata": {},
     "output_type": "display_data"
    }
   ],
   "source": [
    "# Underfitting Demo\n",
    "lin_reg = LinearRegression()\n",
    "plot_learning_curves(lin_reg, X, y)"
   ]
  },
  {
   "cell_type": "markdown",
   "metadata": {},
   "source": [
    "Underfitting，理想误差值在两线下面，这种情况下增加样本数对提高性能并无帮助"
   ]
  },
  {
   "cell_type": "code",
   "execution_count": 22,
   "metadata": {},
   "outputs": [
    {
     "data": {
      "image/png": "[encoded data removed]",
      "text/plain": [
       "<Figure size 432x288 with 1 Axes>"
      ]
     },
     "metadata": {},
     "output_type": "display_data"
    }
   ],
   "source": [
    "# Overfitting Demo\n",
    "from sklearn.pipeline import Pipeline\n",
    "polynomial_regression = Pipeline([\n",
    "    ('PolynomialFeatures', PolynomialFeatures(degree=20, include_bias=False)),\n",
    "    ('LinearRegression', LinearRegression()),\n",
    "])\n",
    "plot_learning_curves(polynomial_regression, X, y)"
   ]
  },
  {
   "cell_type": "markdown",
   "metadata": {},
   "source": [
    "Overfitting，理想误差值在两线中间，这种情况下增加样本数可以提高算法性能"
   ]
  },
  {
   "cell_type": "markdown",
   "metadata": {},
   "source": [
    "## Regularized Linear Models"
   ]
  },
  {
   "cell_type": "markdown",
   "metadata": {},
   "source": [
    "### Ridge Regression\n",
    "\n",
    "这个算法就是Coursera课程里面的Regularization解法"
   ]
  },
  {
   "cell_type": "code",
   "execution_count": 23,
   "metadata": {},
   "outputs": [
    {
     "data": {
      "text/plain": [
       "Ridge(alpha=0, copy_X=True, fit_intercept=True, max_iter=None,\n",
       "   normalize=False, random_state=None, solver='cholesky', tol=0.001)"
      ]
     },
     "execution_count": 23,
     "metadata": {},
     "output_type": "execute_result"
    }
   ],
   "source": [
    "from sklearn.linear_model import Ridge\n",
    "ridge_reg = Ridge(alpha=0, solver='cholesky')\n",
    "ridge_reg.fit(X_ploy, y)"
   ]
  },
  {
   "cell_type": "code",
   "execution_count": 24,
   "metadata": {},
   "outputs": [
    {
     "data": {
      "image/png": "[encoded data removed]",
      "text/plain": [
       "<Figure size 432x288 with 1 Axes>"
      ]
     },
     "metadata": {},
     "output_type": "display_data"
    }
   ],
   "source": [
    "# 显示预测图像\n",
    "plot_prediction_line(X, y, ridge_reg.predict(X_ploy).flatten())"
   ]
  },
  {
   "cell_type": "markdown",
   "metadata": {},
   "source": [
    "- alpha值越大，预测曲线越平滑\n",
    "- 当alpha=0时，算法等于LinearRegression\n",
    "- 当alphe值超级大是，预测曲线趋近直线"
   ]
  },
  {
   "cell_type": "code",
   "execution_count": 25,
   "metadata": {},
   "outputs": [
    {
     "data": {
      "text/plain": [
       "SGDRegressor(alpha=1, average=False, epsilon=0.1, eta0=0.01,\n",
       "       fit_intercept=True, l1_ratio=0.15, learning_rate='invscaling',\n",
       "       loss='squared_loss', max_iter=None, n_iter=None, penalty='l2',\n",
       "       power_t=0.25, random_state=None, shuffle=True, tol=None, verbose=0,\n",
       "       warm_start=False)"
      ]
     },
     "execution_count": 25,
     "metadata": {},
     "output_type": "execute_result"
    }
   ],
   "source": [
    "# SGDRegression with regularization\n",
    "sgd_reg = SGDRegressor(penalty='l2', alpha=1)\n",
    "sgd_reg.fit(X_ploy, y.ravel())"
   ]
  },
  {
   "cell_type": "code",
   "execution_count": 26,
   "metadata": {},
   "outputs": [
    {
     "data": {
      "image/png": "[encoded data removed]",
      "text/plain": [
       "<Figure size 432x288 with 1 Axes>"
      ]
     },
     "metadata": {},
     "output_type": "display_data"
    }
   ],
   "source": [
    "# 显示预测图像\n",
    "plot_prediction_line(X, y, sgd_reg.predict(X_ploy).flatten())"
   ]
  },
  {
   "cell_type": "markdown",
   "metadata": {},
   "source": [
    "## Lasso Regression\n",
    "Lasso Regression automatically performs feature selection and outputs a sparse model \n",
    "\n",
    "- l1正则化过程会使所有theta参数趋近于0，alpha就是趋近于0的速度，当alpha=1时，所有theta值会变成0\n",
    "    对于一些不太重要的参数，会更快趋近0，因此这个算法会更加突出强关联的特性参数(theta)\n",
    "\n",
    "\n",
    "- l2正则化过程则是一个相对平滑的过程，参数之间会互相作用，比较平均地趋向0。alpha值越大，theta值越小。\n",
    "    因此这个算法主要是为了减少过度匹配"
   ]
  },
  {
   "cell_type": "code",
   "execution_count": 27,
   "metadata": {},
   "outputs": [
    {
     "data": {
      "text/plain": [
       "Lasso(alpha=0.1, copy_X=True, fit_intercept=True, max_iter=1000,\n",
       "   normalize=False, positive=False, precompute=False, random_state=None,\n",
       "   selection='cyclic', tol=0.0001, warm_start=False)"
      ]
     },
     "execution_count": 27,
     "metadata": {},
     "output_type": "execute_result"
    }
   ],
   "source": [
    "from sklearn.linear_model import Lasso\n",
    "lasso_reg = Lasso(alpha=0.1)\n",
    "lasso_reg.fit(X_ploy, y)"
   ]
  },
  {
   "cell_type": "code",
   "execution_count": 28,
   "metadata": {},
   "outputs": [
    {
     "data": {
      "image/png": "[encoded data removed]",
      "text/plain": [
       "<Figure size 432x288 with 1 Axes>"
      ]
     },
     "metadata": {},
     "output_type": "display_data"
    }
   ],
   "source": [
    "# 显示预测图像\n",
    "plot_prediction_line(X, y, lasso_reg.predict(X_ploy).flatten())"
   ]
  },
  {
   "cell_type": "markdown",
   "metadata": {},
   "source": [
    "## Elastic Net\n",
    "\n",
    "Elastic Net是Ridge Regression和Lasso Regression的综合，通过一个r参数来权衡算法侧重\n",
    "\n",
    "当r = 1时，算法等于Lasso Regression\n",
    "\n",
    "当r = 0时，算法等于Ridge Regression\n",
    "\n",
    "Ridge(0) ----- r ----- Lasso(1)"
   ]
  },
  {
   "cell_type": "code",
   "execution_count": 29,
   "metadata": {},
   "outputs": [
    {
     "data": {
      "text/plain": [
       "ElasticNet(alpha=0.1, copy_X=True, fit_intercept=True, l1_ratio=1,\n",
       "      max_iter=1000, normalize=False, positive=False, precompute=False,\n",
       "      random_state=None, selection='cyclic', tol=0.0001, warm_start=False)"
      ]
     },
     "execution_count": 29,
     "metadata": {},
     "output_type": "execute_result"
    }
   ],
   "source": [
    "from sklearn.linear_model import ElasticNet\n",
    "elastic_net = ElasticNet(alpha=0.1, l1_ratio=1)\n",
    "elastic_net.fit(X_ploy, y)"
   ]
  },
  {
   "cell_type": "code",
   "execution_count": 30,
   "metadata": {},
   "outputs": [
    {
     "data": {
      "image/png": "[encoded data removed]",
      "text/plain": [
       "<Figure size 432x288 with 1 Axes>"
      ]
     },
     "metadata": {},
     "output_type": "display_data"
    }
   ],
   "source": [
    "# 显示预测图像\n",
    "plot_prediction_line(X, y, elastic_net.predict(X_ploy).flatten())"
   ]
  },
  {
   "cell_type": "markdown",
   "metadata": {},
   "source": [
    "### 关于模型的选择：\n",
    "\n",
    "总的来说，选择带有一点Regulazation的正则化模型是比较靠谱的，不太建议选择普通LinearRegression。\n",
    "\n",
    "可以先尝试RidgeRegression。如果需要突出强关联的特性，可以使用ElasticNet。\n",
    "\n",
    "LassoRegression的效果会比较激进，一般不太推荐"
   ]
  },
  {
   "cell_type": "markdown",
   "metadata": {},
   "source": [
    "## Early Stopping\n",
    "\n",
    "某些情况下，随着模型训练次数逐步增多，Validation的偏差在达到最低点之后，可能会反弹，\n",
    "\n",
    "这种情况下提前结束训练是个比较好的选择"
   ]
  },
  {
   "cell_type": "raw",
   "metadata": {},
   "source": [
    "from sklearn.base import clone\n",
    "sgd_reg = SGDRegressor(n_iter=1, warm_start=True, penalty=None, \n",
    "                       learning_rate='constant', eta0=0.0005)\n",
    "minimum_val_error = float(\"inf\")\n",
    "best_epoch = None\n",
    "best_model = None\n",
    "#  遍历1000轮，每轮计算MSE，选择结果最优的模型\n",
    "for epoch in range(1000):\n",
    "    # 设置warm_start之后会保留上次训练的结果，因此这里是继续训练\n",
    "    sgd_reg.fit(X_train_poly_scaled, y_train) \n",
    "    y_val_predict = sgd_reg.predict(x_val_poly_scaled)\n",
    "    val_error = mean_squared_error(y_val_predict, y_val)\n",
    "    if val_error < minimum_val_error:\n",
    "        minimum_val_error = val_error\n",
    "        best_epoch = epoch\n",
    "        best_model = clone(sgd_reg)"
   ]
  },
  {
   "cell_type": "code",
   "execution_count": 31,
   "metadata": {},
   "outputs": [
    {
     "name": "stdout",
     "output_type": "stream",
     "text": [
      "['data', 'target', 'target_names', 'DESCR', 'feature_names']\n",
      "target_names ['setosa' 'versicolor' 'virginica']\n",
      "feature_names ['sepal length (cm)', 'sepal width (cm)', 'petal length (cm)', 'petal width (cm)']\n",
      "Iris Plants Database\n",
      "====================\n",
      "\n",
      "Notes\n",
      "-----\n",
      "Data Set Characteristics:\n",
      "    :Number of Instances: 150 (50 in each of three classes)\n",
      "    :Number of Attributes: 4 numeric, predictive attributes and the class\n",
      "    :Attribute Information:\n",
      "        - sepal length in cm\n",
      "        - sepal width in cm\n",
      "        - petal length in cm\n",
      "        - petal width in cm\n",
      "        - class:\n",
      "                - Iris-Setosa\n",
      "                - Iris-Versicolour\n",
      "                - Iris-Virginica\n",
      "    :Summary Statistics:\n",
      "\n",
      "    ============== ==== ==== ======= ===== ====================\n",
      "                    Min  Max   Mean    SD   Class Correlation\n",
      "    ============== ==== ==== ======= ===== ====================\n",
      "    sepal length:   4.3  7.9   5.84   0.83    0.7826\n",
      "    sepal width:    2.0  4.4   3.05   0.43   -0.4194\n",
      "    petal length:   1.0  6.9   3.76   1.76    0.9490  (high!)\n",
      "    petal width:    0.1  2.5   1.20  0.76     0.9565  (high!)\n",
      "    ============== ==== ==== ======= ===== ====================\n",
      "\n",
      "    :Missing Attribute Values: None\n",
      "    :Class Distribution: 33.3% for each of 3 classes.\n",
      "    :Creator: R.A. Fisher\n",
      "    :Donor: Michael Marshall (MARSHALL%PLU@io.arc.nasa.gov)\n",
      "    :Date: July, 1988\n",
      "\n",
      "This is a copy of UCI ML iris datasets.\n",
      "http://archive.ics.uci.edu/ml/datasets/Iris\n",
      "\n",
      "The famous Iris database, first used by Sir R.A Fisher\n",
      "\n",
      "This is perhaps the best known database to be found in the\n",
      "pattern recognition literature.  Fisher's paper is a classic in the field and\n",
      "is referenced frequently to this day.  (See Duda & Hart, for example.)  The\n",
      "data set contains 3 classes of 50 instances each, where each class refers to a\n",
      "type of iris plant.  One class is linearly separable from the other 2; the\n",
      "latter are NOT linearly separable from each other.\n",
      "\n",
      "References\n",
      "----------\n",
      "   - Fisher,R.A. \"The use of multiple measurements in taxonomic problems\"\n",
      "     Annual Eugenics, 7, Part II, 179-188 (1936); also in \"Contributions to\n",
      "     Mathematical Statistics\" (John Wiley, NY, 1950).\n",
      "   - Duda,R.O., & Hart,P.E. (1973) Pattern Classification and Scene Analysis.\n",
      "     (Q327.D83) John Wiley & Sons.  ISBN 0-471-22361-1.  See page 218.\n",
      "   - Dasarathy, B.V. (1980) \"Nosing Around the Neighborhood: A New System\n",
      "     Structure and Classification Rule for Recognition in Partially Exposed\n",
      "     Environments\".  IEEE Transactions on Pattern Analysis and Machine\n",
      "     Intelligence, Vol. PAMI-2, No. 1, 67-71.\n",
      "   - Gates, G.W. (1972) \"The Reduced Nearest Neighbor Rule\".  IEEE Transactions\n",
      "     on Information Theory, May 1972, 431-433.\n",
      "   - See also: 1988 MLC Proceedings, 54-64.  Cheeseman et al\"s AUTOCLASS II\n",
      "     conceptual clustering system finds 3 classes in the data.\n",
      "   - Many, many more ...\n",
      "\n"
     ]
    }
   ],
   "source": [
    "from sklearn import datasets\n",
    "iris = datasets.load_iris()\n",
    "print(list(iris.keys()))\n",
    "print('target_names', iris['target_names'])\n",
    "print('feature_names', iris['feature_names'])\n",
    "print(iris['DESCR'])"
   ]
  },
  {
   "cell_type": "code",
   "execution_count": 32,
   "metadata": {},
   "outputs": [],
   "source": [
    "X = iris['data'][:, 3:] # patal width\n",
    "y = (iris['target'] == 2).astype(np.int) # 1 if Iris-virginica, else 0"
   ]
  },
  {
   "cell_type": "code",
   "execution_count": 33,
   "metadata": {},
   "outputs": [
    {
     "data": {
      "text/plain": [
       "LogisticRegression(C=1.0, class_weight=None, dual=False, fit_intercept=True,\n",
       "          intercept_scaling=1, max_iter=100, multi_class='ovr', n_jobs=1,\n",
       "          penalty='l2', random_state=None, solver='liblinear', tol=0.0001,\n",
       "          verbose=0, warm_start=False)"
      ]
     },
     "execution_count": 33,
     "metadata": {},
     "output_type": "execute_result"
    }
   ],
   "source": [
    "from sklearn.linear_model import LogisticRegression\n",
    "log_reg = LogisticRegression()\n",
    "log_reg.fit(X, y)"
   ]
  },
  {
   "cell_type": "code",
   "execution_count": 34,
   "metadata": {},
   "outputs": [
    {
     "data": {
      "text/plain": [
       "<matplotlib.legend.Legend at 0x117033d30>"
      ]
     },
     "execution_count": 34,
     "metadata": {},
     "output_type": "execute_result"
    },
    {
     "data": {
      "image/png": "[encoded data removed]",
      "text/plain": [
       "<Figure size 432x288 with 1 Axes>"
      ]
     },
     "metadata": {},
     "output_type": "display_data"
    }
   ],
   "source": [
    "# plot graphic\n",
    "X_new = np.linspace(0, 3, 1000).reshape(-1, 1)\n",
    "y_proba = log_reg.predict_proba(X_new) # 返回预测可能性，y值包括积极概率和消极概率，相加为1\n",
    "plt.plot(X_new, y_proba[:, 1], 'g-', label='Iris-Virginica')\n",
    "plt.plot(X_new, y_proba[:, 0], 'b--', label=\"Not Iris-Virginica\")\n",
    "plt.legend()"
   ]
  },
  {
   "cell_type": "code",
   "execution_count": 35,
   "metadata": {},
   "outputs": [
    {
     "data": {
      "text/plain": [
       "array([1, 0])"
      ]
     },
     "execution_count": 35,
     "metadata": {},
     "output_type": "execute_result"
    }
   ],
   "source": [
    "# 分界线在1.6左右，这里测试一下predict的逻辑，是以50%可能性作为分界线\n",
    "log_reg.predict([[1.7], [1.5]])"
   ]
  },
  {
   "cell_type": "code",
   "execution_count": 36,
   "metadata": {},
   "outputs": [
    {
     "data": {
      "text/plain": [
       "LogisticRegression(C=1.0, class_weight=None, dual=False, fit_intercept=True,\n",
       "          intercept_scaling=1, max_iter=100, multi_class='ovr', n_jobs=1,\n",
       "          penalty='l2', random_state=None, solver='liblinear', tol=0.0001,\n",
       "          verbose=0, warm_start=False)"
      ]
     },
     "execution_count": 36,
     "metadata": {},
     "output_type": "execute_result"
    }
   ],
   "source": [
    "X = iris['data'][:, 2:] # patal width\n",
    "y = (iris['target'] == 2).astype(np.int) # 1 if Iris-virginica, else 0\n",
    "\n",
    "log_reg = LogisticRegression()\n",
    "log_reg.fit(X, y)"
   ]
  },
  {
   "cell_type": "code",
   "execution_count": 37,
   "metadata": {},
   "outputs": [
    {
     "data": {
      "text/plain": [
       "<matplotlib.legend.Legend at 0x117108940>"
      ]
     },
     "execution_count": 37,
     "metadata": {},
     "output_type": "execute_result"
    },
    {
     "data": {
      "image/png": "[encoded data removed]",
      "text/plain": [
       "<Figure size 432x288 with 1 Axes>"
      ]
     },
     "metadata": {},
     "output_type": "display_data"
    }
   ],
   "source": [
    "# Plot graphic\n",
    "virginica_items = []\n",
    "non_virginica_items = []\n",
    "for i in range(len(X)):\n",
    "    if y[i] == 1:\n",
    "        virginica_items.append(list(X[i]))\n",
    "    else:\n",
    "        non_virginica_items.append(list(X[i]))\n",
    "virginica_items = np.array(virginica_items)\n",
    "non_virginica_items = np.array(non_virginica_items)\n",
    "theta0 = log_reg.intercept_\n",
    "theta1 = log_reg.coef_[0][0]\n",
    "theta2 = log_reg.coef_[0][1]\n",
    "plt.plot(virginica_items[:,0], virginica_items[:,1], '^r', label='Iris-virginica')\n",
    "plt.plot(non_virginica_items[:, 0], non_virginica_items[:, 1], 'ob', label='Not Iris-virginica')\n",
    "plt.plot([0, -theta0 / theta1], [-theta0 / theta2, 0], 'k--')\n",
    "plt.xlim(3.0, 7.0)\n",
    "plt.ylim(0.8, 2.6)\n",
    "plt.xlabel('Petal length')\n",
    "plt.ylabel('Petal width')\n",
    "plt.legend()"
   ]
  },
  {
   "cell_type": "markdown",
   "metadata": {},
   "source": [
    "## Softmax Regresssion\n",
    "\n",
    "Softmax Regression也称为Multinomial Logistic Regression，可进行多个分类的判断。\n",
    "\n",
    "不同于之前提过的多个binary classifier组合进行多分类判断，Softmax可通过单次计算直接输出结果。\n",
    "\n",
    "原理在于我们把之前logistic hypothesis公式中的vector替换为matrix，然后对这个matrix进行训练拟合\n",
    "\n",
    "**注意：**Softmax Regression每次只能输出一个分类，不适用那种需要一次性输出多个分类的场景"
   ]
  },
  {
   "cell_type": "code",
   "execution_count": 38,
   "metadata": {},
   "outputs": [
    {
     "data": {
      "text/plain": [
       "LogisticRegression(C=10, class_weight=None, dual=False, fit_intercept=True,\n",
       "          intercept_scaling=1, max_iter=100, multi_class='multinomial',\n",
       "          n_jobs=1, penalty='l2', random_state=None, solver='lbfgs',\n",
       "          tol=0.0001, verbose=0, warm_start=False)"
      ]
     },
     "execution_count": 38,
     "metadata": {},
     "output_type": "execute_result"
    }
   ],
   "source": [
    "X = iris['data'][:, (2, 3)] # patal length, patal width \n",
    "y = iris['target']\n",
    "softmax_reg = LogisticRegression(multi_class=\"multinomial\", solver=\"lbfgs\", C=10)\n",
    "softmax_reg.fit(X, y)"
   ]
  },
  {
   "cell_type": "code",
   "execution_count": 39,
   "metadata": {},
   "outputs": [
    {
     "data": {
      "text/plain": [
       "array([[-4.58536208, -2.24803476],\n",
       "       [ 0.16014121, -2.15447875],\n",
       "       [ 4.42522087,  4.40251352]])"
      ]
     },
     "execution_count": 39,
     "metadata": {},
     "output_type": "execute_result"
    }
   ],
   "source": [
    "softmax_reg.coef_"
   ]
  },
  {
   "cell_type": "code",
   "execution_count": 40,
   "metadata": {},
   "outputs": [
    {
     "data": {
      "text/plain": [
       "array([ 18.87940407,   6.38186888, -25.26127294])"
      ]
     },
     "execution_count": 40,
     "metadata": {},
     "output_type": "execute_result"
    }
   ],
   "source": [
    "softmax_reg.intercept_"
   ]
  },
  {
   "cell_type": "code",
   "execution_count": 41,
   "metadata": {},
   "outputs": [
    {
     "data": {
      "text/plain": [
       "<matplotlib.legend.Legend at 0x1171d8828>"
      ]
     },
     "execution_count": 41,
     "metadata": {},
     "output_type": "execute_result"
    },
    {
     "data": {
      "image/png": "[encoded data removed]",
      "text/plain": [
       "<Figure size 720x432 with 1 Axes>"
      ]
     },
     "metadata": {},
     "output_type": "display_data"
    }
   ],
   "source": [
    "# Plot graphic\n",
    "setosa_itema = []\n",
    "versicolor_items = []\n",
    "virginica_items = []\n",
    "\n",
    "for i in range(len(X)):\n",
    "    if y[i] == 0:\n",
    "        setosa_itema.append(list(X[i]))\n",
    "    elif y[i] == 1:\n",
    "        versicolor_items.append(list(X[i]))\n",
    "    else:\n",
    "        virginica_items.append(list(X[i]))\n",
    "setosa_itema = np.array(setosa_itema)\n",
    "versicolor_items = np.array(versicolor_items)\n",
    "virginica_items = np.array(virginica_items)\n",
    "theta0 = softmax_reg.intercept_\n",
    "theta1 = softmax_reg.coef_[:, 0]\n",
    "theta2 = softmax_reg.coef_[:, 1]\n",
    "plt.figure(figsize=(10,6))\n",
    "plt.plot(setosa_itema[:,0], setosa_itema[:,1], 'vm', label='Iris-Setosa')\n",
    "plt.plot(versicolor_items[:,0], versicolor_items[:,1], 'oc', label='Iris-Versicolor')\n",
    "plt.plot(virginica_items[:, 0], virginica_items[:, 1], '^r', label='Iris-virginica')\n",
    "plt.plot([0, -theta0[0] / theta1[0]], [-theta0[0] / theta2[0], 0], 'k--')\n",
    "plt.plot([0, -theta0[1] / theta1[1]], [-theta0[1] / theta2[1], 0], 'k--')\n",
    "plt.plot([0, -theta0[2] / theta1[2]], [-theta0[2] / theta2[2], 0], 'k--')\n",
    "plt.xlim(0.0, 7.0)\n",
    "plt.ylim(0.0, 2.6)\n",
    "plt.xlabel('Petal length')\n",
    "plt.ylabel('Petal width')\n",
    "\n",
    "plt.legend()"
   ]
  },
  {
   "cell_type": "code",
   "execution_count": null,
   "metadata": {},
   "outputs": [],
   "source": []
  }
 ],
 "metadata": {
  "kernelspec": {
   "display_name": "Python 3",
   "language": "python",
   "name": "python3"
  },
  "language_info": {
   "codemirror_mode": {
    "name": "ipython",
    "version": 3
   },
   "file_extension": ".py",
   "mimetype": "text/x-python",
   "name": "python",
   "nbconvert_exporter": "python",
   "pygments_lexer": "ipython3",
   "version": "3.6.5"
  }
 },
 "nbformat": 4,
 "nbformat_minor": 2
}
