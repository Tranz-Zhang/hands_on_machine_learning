{
 "cells": [
  {
   "cell_type": "markdown",
   "metadata": {},
   "source": [
    "---\n",
    "**1.** What Linear Regression training algorithm can you use if you have a training set with millions of features?"
   ]
  },
  {
   "cell_type": "markdown",
   "metadata": {},
   "source": [
    "** Answer: ** Stochastic Gradient Descent "
   ]
  },
  {
   "cell_type": "markdown",
   "metadata": {},
   "source": [
    "---\n",
    "**2.** Suppose the features in your training set have very different scales. What algorithms might suffer from this, and how? What can you do about it?"
   ]
  },
  {
   "cell_type": "markdown",
   "metadata": {},
   "source": [
    "**Answer:** Normal Equation will do the job, because it will not be affected by scaled features\n",
    "\n",
    "Or maybe we can use a StandardScaler to scale the features and use a linear regression to train"
   ]
  },
  {
   "cell_type": "markdown",
   "metadata": {},
   "source": [
    "---\n",
    "**3.** Can Gradient Descent get stuck in a local minimum when training a Logistic Regression model?"
   ]
  },
  {
   "cell_type": "markdown",
   "metadata": {},
   "source": [
    "**Answer:** NO, because logistic regression's function is a convex function, which always has a global minimum."
   ]
  },
  {
   "cell_type": "markdown",
   "metadata": {},
   "source": [
    "---\n",
    "**4.** Do all Gradient Descent algorithms lead to the same model provided you let them run long enough?"
   ]
  },
  {
   "cell_type": "markdown",
   "metadata": {},
   "source": [
    "**Answer:** NO. Linear regression without regulazation will jump near minumum, which is not alway the same result."
   ]
  },
  {
   "cell_type": "markdown",
   "metadata": {},
   "source": [
    "---\n",
    "**5.** Suppose you use Batch Gradient Descent and you plot the validation error at every epoch. If you notice that the validation error consistently goes up, what is likely going on? How can you fix this?"
   ]
  },
  {
   "cell_type": "markdown",
   "metadata": {},
   "source": [
    "**Answer:** The learning rate maybe too large. Try to lower the learning rate and try again."
   ]
  },
  {
   "cell_type": "markdown",
   "metadata": {},
   "source": [
    "---\n",
    "**6.** Is it a good idea to stop Mini-batch Gradient Descent immediately when the vali‐ dation error goes up?"
   ]
  },
  {
   "cell_type": "markdown",
   "metadata": {},
   "source": [
    "**Answer:** NO. Maybe the gradient process is jumpping off a local minumum. The best way to do this is run through all the epochs and select the best params."
   ]
  },
  {
   "cell_type": "markdown",
   "metadata": {},
   "source": [
    "---\n",
    "**7.** Which Gradient Descent algorithm (among those we discussed) will reach the vicinity of the optimal solution the fastest? Which will actually converge? How can you make the others converge as well?"
   ]
  },
  {
   "cell_type": "markdown",
   "metadata": {},
   "source": [
    "**Answer:** Stochastic Gradient Descent will be the fastest. Batch Gradient Descent will actually converge but much slower. \n",
    "\n",
    "Lower the learning for every epoch loop, and after the cost function reach some tolerance, change to batch gradient descent."
   ]
  },
  {
   "cell_type": "markdown",
   "metadata": {},
   "source": [
    "---\n",
    "**8.** Suppose you are using Polynomial Regression. You plot the learning curves and you notice that there is a large gap between the training error and the validation error. What is happening? What are three ways to solve this?"
   ]
  },
  {
   "cell_type": "markdown",
   "metadata": {},
   "source": [
    "**Answer:** The model is overfitting(high variance). \n",
    "\n",
    "- Try add more train data. \n",
    "\n",
    "- Or reduce some features. \n",
    "\n",
    "- Or Increase the regularization hyperparameter α"
   ]
  },
  {
   "cell_type": "markdown",
   "metadata": {},
   "source": [
    "---\n",
    "**9.** Suppose you are using Ridge Regression and you notice that the training error and the validation error are almost equal and fairly high. Would you say that the model suffers from high bias or high variance? Should you increase the regularization hyperparameter α or reduce it?"
   ]
  },
  {
   "cell_type": "markdown",
   "metadata": {},
   "source": [
    "**Answer:** The model is high bias (underfitting). We should reduce the α"
   ]
  },
  {
   "cell_type": "markdown",
   "metadata": {},
   "source": [
    "---\n",
    "**10.** Why would you want to use:\n",
    "\n",
    "• Ridge Regression instead of Linear Regression?\n",
    "\n",
    "• Lasso instead of Ridge Regression?\n",
    "\n",
    "• Elastic Net instead of Lasso?"
   ]
  },
  {
   "cell_type": "markdown",
   "metadata": {},
   "source": [
    "**Answer:**\n",
    "1. A little bit of regulazation is better than nothing. And have more control, better result.\n",
    "\n",
    "2. When you want to do feature selection.\n",
    "\n",
    "3. When you feel Lasso is too agressive and whan to have more control with feature selection."
   ]
  },
  {
   "cell_type": "markdown",
   "metadata": {},
   "source": [
    "---\n",
    "**11.** Suppose you want to classify pictures as outdoor/indoor and daytime/nighttime. Should you implement two Logistic Regression classifiers or one Softmax Regression classifier?"
   ]
  },
  {
   "cell_type": "markdown",
   "metadata": {},
   "source": [
    "**Answer:** Logistic Regression. Because Softmax Regression can only output one class one time."
   ]
  },
  {
   "cell_type": "markdown",
   "metadata": {},
   "source": [
    "---\n",
    "**12.** Implement Batch Gradient Descent with early stopping for Softmax Regression (without using Scikit-Learn)."
   ]
  },
  {
   "cell_type": "code",
   "execution_count": 9,
   "metadata": {},
   "outputs": [],
   "source": [
    "import numpy as np\n",
    "# Crate random linear data\n",
    "X = 2 * np.random.rand(100, 1)\n",
    "X_b = np.c_[np.ones((100, 1)), X]\n",
    "y = 4 + 3 * X + np.random.randn(100, 1)\n",
    "m = 100"
   ]
  },
  {
   "cell_type": "code",
   "execution_count": 22,
   "metadata": {},
   "outputs": [
    {
     "name": "stdout",
     "output_type": "stream",
     "text": [
      "Early stop at: 250\n",
      "theta:\n",
      " [[4.09826681]\n",
      " [2.82916416]]\n",
      "predict:\n",
      " [[4.09826681]\n",
      " [9.75659513]]\n"
     ]
    }
   ],
   "source": [
    "eta = 0.1 # learning rate\n",
    "n_iterations = 1000\n",
    "theta = np.random.randn(2, 1) # random initialization\n",
    "early_stop_tolerance = 0.000001\n",
    "last_std_error = 0\n",
    "\n",
    "for iteration in range(n_iterations):\n",
    "    # 计算Gradient，这里每次会对所有X数据进行处理，因此在训练数据很多的情况下，\n",
    "    # 效率比较差(Batch Gradient Descent)，但可以同时进行很多feature的计算，这点上比Normal Equation要好\n",
    "    gradients = 2 / m * X_b.T.dot(X_b.dot(theta) - y)\n",
    "    theta = theta - eta * gradients\n",
    "    # 采集递减过程的数据，用于判断Early stop\n",
    "    std_error = sum(2 / m * np.sqrt(np.power(X_b.dot(theta) - y, 2)))\n",
    "    if np.abs(std_error - last_std_error) < early_stop_tolerance:\n",
    "        print(\"Early stop at:\", iteration)\n",
    "        break\n",
    "    last_std_error = std_error\n",
    "print(\"theta:\\n\", theta)\n",
    "\n",
    "X_new = np.array([[0], [2]])            # X轴最左边和最右边的值\n",
    "X_new_b = np.c_[np.ones((2, 1)), X_new] # 为了预测添加Theta0\n",
    "print(\"predict:\\n\", X_new_b.dot(theta))"
   ]
  },
  {
   "cell_type": "code",
   "execution_count": 12,
   "metadata": {},
   "outputs": [
    {
     "data": {
      "text/plain": [
       "0.5"
      ]
     },
     "execution_count": 12,
     "metadata": {},
     "output_type": "execute_result"
    }
   ],
   "source": [
    "np.abs(-0.5)"
   ]
  },
  {
   "cell_type": "code",
   "execution_count": null,
   "metadata": {},
   "outputs": [],
   "source": []
  }
 ],
 "metadata": {
  "kernelspec": {
   "display_name": "Python 3",
   "language": "python",
   "name": "python3"
  },
  "language_info": {
   "codemirror_mode": {
    "name": "ipython",
    "version": 3
   },
   "file_extension": ".py",
   "mimetype": "text/x-python",
   "name": "python",
   "nbconvert_exporter": "python",
   "pygments_lexer": "ipython3",
   "version": "3.6.5"
  }
 },
 "nbformat": 4,
 "nbformat_minor": 2
}
