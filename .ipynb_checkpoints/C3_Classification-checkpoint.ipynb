{
 "cells": [
  {
   "cell_type": "code",
   "execution_count": 1,
   "metadata": {},
   "outputs": [],
   "source": [
    "import warnings\n",
    "warnings.simplefilter(action='ignore', category=FutureWarning)"
   ]
  },
  {
   "cell_type": "code",
   "execution_count": 2,
   "metadata": {},
   "outputs": [
    {
     "data": {
      "text/plain": [
       "{'DESCR': 'mldata.org dataset: mnist-original',\n",
       " 'COL_NAMES': ['label', 'data'],\n",
       " 'target': array([0., 0., 0., ..., 9., 9., 9.]),\n",
       " 'data': array([[0, 0, 0, ..., 0, 0, 0],\n",
       "        [0, 0, 0, ..., 0, 0, 0],\n",
       "        [0, 0, 0, ..., 0, 0, 0],\n",
       "        ...,\n",
       "        [0, 0, 0, ..., 0, 0, 0],\n",
       "        [0, 0, 0, ..., 0, 0, 0],\n",
       "        [0, 0, 0, ..., 0, 0, 0]], dtype=uint8)}"
      ]
     },
     "execution_count": 2,
     "metadata": {},
     "output_type": "execute_result"
    }
   ],
   "source": [
    "from sklearn.datasets import fetch_mldata\n",
    "mnist = fetch_mldata('MNIST original')\n",
    "# type(mnist): sklearn.utils.Bunch\n",
    "mnist"
   ]
  },
  {
   "cell_type": "code",
   "execution_count": 3,
   "metadata": {},
   "outputs": [
    {
     "name": "stdout",
     "output_type": "stream",
     "text": [
      "(70000, 784)\n",
      "(70000,)\n"
     ]
    }
   ],
   "source": [
    "X, y = mnist['data'], mnist['target']\n",
    "# ‘data’数据为70000x784矩阵， 即70000张28x28的图片\n",
    "print(X.shape)\n",
    "print(y.shape)"
   ]
  },
  {
   "cell_type": "code",
   "execution_count": 4,
   "metadata": {},
   "outputs": [
    {
     "data": {
      "image/png": "[encoded data removed]",
      "text/plain": [
       "<Figure size 432x288 with 1 Axes>"
      ]
     },
     "metadata": {},
     "output_type": "display_data"
    },
    {
     "name": "stdout",
     "output_type": "stream",
     "text": [
      "label: 5.0\n"
     ]
    }
   ],
   "source": [
    "# %matplotlib inline 是IPython内部定义的宏，用于在jupyter notebook便捷地显示图像\n",
    "%matplotlib inline\n",
    "import matplotlib\n",
    "import matplotlib.pyplot as plt\n",
    "\n",
    "# 显示数据集中的图像\n",
    "some_digit = X[36000]\n",
    "some_digit_image = some_digit.reshape(28, 28)\n",
    "plt.imshow(some_digit_image, cmap=matplotlib.cm.binary, interpolation='nearest')\n",
    "plt.axis(\"off\")\n",
    "plt.show()\n",
    "print(\"label:\", y[36000])"
   ]
  },
  {
   "cell_type": "code",
   "execution_count": 5,
   "metadata": {},
   "outputs": [],
   "source": [
    "# Split training set and test set\n",
    "# The MNIST dataset is actually already split into a training set \n",
    "# (the first 60,000 images) and a test set (the last 10,000 images)\n",
    "X_train, X_test, y_train, y_test = X[:60000], X[60000:], y[:60000], y[60000:]"
   ]
  },
  {
   "cell_type": "code",
   "execution_count": 6,
   "metadata": {},
   "outputs": [],
   "source": [
    "import numpy as np\n",
    "shuffle_index = np.random.permutation(60000)\n",
    "X_train = X_train[shuffle_index]\n",
    "y_train = y_train[shuffle_index]"
   ]
  },
  {
   "cell_type": "code",
   "execution_count": 7,
   "metadata": {},
   "outputs": [],
   "source": [
    "# Training a binary classifier\n",
    "# 以5为例，训练一个分类器用于识别5和非5数字\n",
    "# 这里我们先创建一个label数组用于标记数字是否为5\n",
    "y_train_5 = (y_train == 5)\n",
    "y_test_5 = (y_test == 5)"
   ]
  },
  {
   "cell_type": "code",
   "execution_count": 8,
   "metadata": {},
   "outputs": [
    {
     "data": {
      "text/plain": [
       "SGDClassifier(alpha=0.0001, average=False, class_weight=None, epsilon=0.1,\n",
       "       eta0=0.0, fit_intercept=True, l1_ratio=0.15,\n",
       "       learning_rate='optimal', loss='hinge', max_iter=None, n_iter=None,\n",
       "       n_jobs=1, penalty='l2', power_t=0.5, random_state=42, shuffle=True,\n",
       "       tol=None, verbose=0, warm_start=False)"
      ]
     },
     "execution_count": 8,
     "metadata": {},
     "output_type": "execute_result"
    }
   ],
   "source": [
    "# SGDClassifier (Stochastic Gradient Descent)\n",
    "from sklearn.linear_model import SGDClassifier\n",
    "sgd_clf = SGDClassifier(random_state = 42)\n",
    "sgd_clf.fit(X_train, y_train_5)"
   ]
  },
  {
   "cell_type": "code",
   "execution_count": 9,
   "metadata": {},
   "outputs": [
    {
     "data": {
      "text/plain": [
       "array([ True])"
      ]
     },
     "execution_count": 9,
     "metadata": {},
     "output_type": "execute_result"
    }
   ],
   "source": [
    "sgd_clf.predict([some_digit])"
   ]
  },
  {
   "cell_type": "code",
   "execution_count": 10,
   "metadata": {
    "scrolled": true
   },
   "outputs": [
    {
     "data": {
      "text/plain": [
       "array([0.96565, 0.95955, 0.95235])"
      ]
     },
     "execution_count": 10,
     "metadata": {},
     "output_type": "execute_result"
    }
   ],
   "source": [
    "# Measuring SGD\n",
    "from sklearn.model_selection import cross_val_score\n",
    "cross_val_score(sgd_clf, X_train, y_train_5, cv=3, scoring=\"accuracy\")"
   ]
  },
  {
   "cell_type": "code",
   "execution_count": 11,
   "metadata": {
    "scrolled": false
   },
   "outputs": [
    {
     "name": "stdout",
     "output_type": "stream",
     "text": [
      "Split: 40000 / 20000\n",
      "0.96565\n",
      "Split: 40000 / 20000\n",
      "0.95955\n",
      "Split: 40000 / 20000\n",
      "0.95235\n"
     ]
    }
   ],
   "source": [
    "# Implementing Cross-Validation\n",
    "from sklearn.model_selection import StratifiedKFold\n",
    "from sklearn.base import clone\n",
    "\n",
    "skfolds = StratifiedKFold(n_splits=3, random_state=42)\n",
    "\n",
    "for train_index, test_index in skfolds.split(X_train, y_train_5):\n",
    "    clone_clf = clone(sgd_clf)\n",
    "    X_train_folds = X_train[train_index]\n",
    "    y_train_folds = y_train_5[train_index]\n",
    "    X_test_fold = X_train[test_index]\n",
    "    y_test_fold = y_train_5[test_index]\n",
    "    print(\"Split:\",len(y_train_folds), \"/\", len(y_test_fold))\n",
    "    clone_clf.fit(X_train_folds, y_train_folds)\n",
    "    y_pred = clone_clf.predict(X_test_fold)\n",
    "    n_correct = sum(y_pred == y_test_fold)\n",
    "    print(n_correct / len(y_test_fold))\n"
   ]
  },
  {
   "cell_type": "code",
   "execution_count": 12,
   "metadata": {},
   "outputs": [
    {
     "data": {
      "text/plain": [
       "array([0.9098 , 0.90815, 0.911  ])"
      ]
     },
     "execution_count": 12,
     "metadata": {},
     "output_type": "execute_result"
    }
   ],
   "source": [
    "# 这里我们创建一个非常蠢的分类器，用于区分所有非5的数字，然后所有值都返回false\n",
    "# 问题在于这个分类器在cross_val_score中依然取得90%左右的准确率！！！\n",
    "# 说明cross_val_score评分机制有缺陷\n",
    "from sklearn.base import BaseEstimator\n",
    "class Never5Classifier(BaseEstimator):\n",
    "    def fit(self, X, y=None):\n",
    "        pass\n",
    "    def predict(self, X):\n",
    "        return np.zeros((len(X), 1), dtype=bool)\n",
    "\n",
    "never_5_clf = Never5Classifier()\n",
    "cross_val_score(never_5_clf, X_train, y_train_5, cv=3, scoring=\"accuracy\")"
   ]
  },
  {
   "cell_type": "code",
   "execution_count": 13,
   "metadata": {},
   "outputs": [
    {
     "data": {
      "text/plain": [
       "array([[53643,   936],\n",
       "       [ 1513,  3908]])"
      ]
     },
     "execution_count": 13,
     "metadata": {},
     "output_type": "execute_result"
    }
   ],
   "source": [
    "# Confusion Matrix 评分\n",
    "from sklearn.model_selection import cross_val_predict\n",
    "y_train_pred = cross_val_predict(sgd_clf, X_train, y_train_5, cv=3)\n",
    "\n",
    "from sklearn.metrics import confusion_matrix\n",
    "confusion_matrix(y_train_5, y_train_pred)"
   ]
  },
  {
   "cell_type": "code",
   "execution_count": 14,
   "metadata": {},
   "outputs": [
    {
     "data": {
      "text/plain": [
       "array([[54579,     0],\n",
       "       [    0,  5421]])"
      ]
     },
     "execution_count": 14,
     "metadata": {},
     "output_type": "execute_result"
    }
   ],
   "source": [
    "# Perfect Prediction\n",
    "confusion_matrix(y_train_5, y_train_5)"
   ]
  },
  {
   "cell_type": "code",
   "execution_count": 15,
   "metadata": {},
   "outputs": [
    {
     "name": "stdout",
     "output_type": "stream",
     "text": [
      "Precision: 0.8067712634186622\n",
      "Recall: 0.7209002029145914\n"
     ]
    }
   ],
   "source": [
    "# Precision & Recall\n",
    "from sklearn.metrics import precision_score, recall_score\n",
    "print(\"Precision:\", precision_score(y_train_5, y_train_pred))\n",
    "print(\"Recall:\", recall_score(y_train_5, y_train_pred))"
   ]
  },
  {
   "cell_type": "code",
   "execution_count": 16,
   "metadata": {},
   "outputs": [
    {
     "data": {
      "text/plain": [
       "0.7614223088163664"
      ]
     },
     "execution_count": 16,
     "metadata": {},
     "output_type": "execute_result"
    }
   ],
   "source": [
    "# F1 Score\n",
    "\n",
    "# F1评分是Precision和Recall的综合评分，只有当Precision和Recall得分较高时\n",
    "\n",
    "# F1的评分才会比较高。某些情况下评分标准可能需要偏向Precision或Recall\n",
    "\n",
    "# 例如：过滤出儿童适合看的视频，我们需要较高的Precision来确保每个视频都是OK的\n",
    "\n",
    "# 例如：安全监控录像，需要较高的Recall来确保每个事件都能被录到，虽然会引入其他不准确的视频\n",
    "\n",
    "from sklearn.metrics import f1_score\n",
    "f1_score(y_train_5, y_train_pred)"
   ]
  },
  {
   "cell_type": "code",
   "execution_count": 17,
   "metadata": {},
   "outputs": [
    {
     "data": {
      "text/plain": [
       "array([184308.37603936])"
      ]
     },
     "execution_count": 17,
     "metadata": {},
     "output_type": "execute_result"
    }
   ],
   "source": [
    "# 获取一个评分，可以用于自定义threshold\n",
    "y_scores = sgd_clf.decision_function([some_digit])\n",
    "y_scores"
   ]
  },
  {
   "cell_type": "code",
   "execution_count": 18,
   "metadata": {},
   "outputs": [
    {
     "data": {
      "text/plain": [
       "array([ True])"
      ]
     },
     "execution_count": 18,
     "metadata": {},
     "output_type": "execute_result"
    }
   ],
   "source": [
    "# 我们把threshold定义为0，结果为True\n",
    "threshold = 0\n",
    "y_some_digit_predict = (y_scores > threshold)\n",
    "y_some_digit_predict"
   ]
  },
  {
   "cell_type": "code",
   "execution_count": 19,
   "metadata": {},
   "outputs": [
    {
     "data": {
      "text/plain": [
       "array([False])"
      ]
     },
     "execution_count": 19,
     "metadata": {},
     "output_type": "execute_result"
    }
   ],
   "source": [
    "# 把threshold提高到200000，结果变为False\n",
    "threshold = 200000\n",
    "y_some_digit_predict = (y_scores > threshold)\n",
    "y_some_digit_predict"
   ]
  },
  {
   "cell_type": "code",
   "execution_count": 20,
   "metadata": {},
   "outputs": [
    {
     "data": {
      "text/plain": [
       "array([-1325748.61104816,  -220397.93766175,  -267846.78069082, ...,\n",
       "        -243225.12904386,    25984.36951085,  -373143.33759216])"
      ]
     },
     "execution_count": 20,
     "metadata": {},
     "output_type": "execute_result"
    }
   ],
   "source": [
    "# use decision_function to get the score\n",
    "from sklearn.model_selection import cross_val_predict\n",
    "y_scores = cross_val_predict(sgd_clf, X_train, y_train_5, cv=3, method=\"decision_function\")\n",
    "y_scores"
   ]
  },
  {
   "cell_type": "code",
   "execution_count": 21,
   "metadata": {
    "scrolled": true
   },
   "outputs": [
    {
     "data": {
      "image/png": "[encoded data removed]",
      "text/plain": [
       "<Figure size 432x288 with 1 Axes>"
      ]
     },
     "metadata": {},
     "output_type": "display_data"
    }
   ],
   "source": [
    "from sklearn.metrics import precision_recall_curve\n",
    "precisions, recalls, thresholds = precision_recall_curve(y_train_5, y_scores)\n",
    "def plot_precision_recall_vs_threshold(precisions, recalls, thresholds):\n",
    "    plt.plot(thresholds, precisions[:-1], \"b--\", label=\"Precision\")\n",
    "    plt.plot(thresholds, recalls[:-1], \"g-\", label=\"Recall\")\n",
    "    plt.xlabel(\"Threshold\")\n",
    "    plt.legend(loc=\"upper left\")\n",
    "    plt.ylim([0, 1])\n",
    "plot_precision_recall_vs_threshold(precisions, recalls, thresholds)\n",
    "plt.show()\n",
    "#Precision 线条表现会有抖动，Recall线条表现更为平稳"
   ]
  },
  {
   "cell_type": "code",
   "execution_count": 22,
   "metadata": {},
   "outputs": [
    {
     "data": {
      "image/png": "[encoded data removed]",
      "text/plain": [
       "<Figure size 432x288 with 1 Axes>"
      ]
     },
     "metadata": {},
     "output_type": "display_data"
    }
   ],
   "source": [
    "# Precision与Recall的关系，整体上呈相反关系\n",
    "# 在线条开始下跌之前的那段是不错的取值区间\n",
    "plt.plot(recalls, precisions)\n",
    "plt.xlabel(\"Recall\")\n",
    "plt.ylabel(\"Precision\")\n",
    "plt.show()"
   ]
  },
  {
   "cell_type": "code",
   "execution_count": 23,
   "metadata": {},
   "outputs": [
    {
     "name": "stdout",
     "output_type": "stream",
     "text": [
      "Precision: 0.9405906593406593\n",
      "Recall: 0.5052573325954621\n"
     ]
    }
   ],
   "source": [
    "# 假设我们要一个Precision为90%，可以这么做\n",
    "from sklearn.metrics import precision_score\n",
    "from sklearn.metrics import recall_score\n",
    "threshold = 130000 # 这里我们通过尝试，找到了这么一个数字\n",
    "y_precision_90 = (y_scores > threshold)\n",
    "print(\"Precision:\", precision_score(y_train_5, y_precision_90))\n",
    "print(\"Recall:\", recall_score(y_train_5, y_precision_90))"
   ]
  },
  {
   "cell_type": "code",
   "execution_count": 24,
   "metadata": {},
   "outputs": [],
   "source": [
    "# ROC曲线(Reveiver Operating Characteristic)\n",
    "from sklearn.metrics import roc_curve\n",
    "fpr, tpr, thresholds = roc_curve(y_train_5, y_scores)"
   ]
  },
  {
   "cell_type": "code",
   "execution_count": 25,
   "metadata": {},
   "outputs": [
    {
     "data": {
      "image/png": "[encoded data removed]",
      "text/plain": [
       "<Figure size 432x288 with 1 Axes>"
      ]
     },
     "metadata": {},
     "output_type": "display_data"
    }
   ],
   "source": [
    "# plot roc curve\n",
    "def plot_roc_curve(fpr, tpr, label=None):\n",
    "    plt.plot(fpr, tpr, linewidth=2, label=label)\n",
    "    plt.plot([0, 1], [0, 1], 'k--') ## 对角虚线\n",
    "    plt.axis([0, 1, 0, 1])\n",
    "    plt.xlabel(\"False Positive Rate\")\n",
    "    plt.ylabel(\"True Positive Rate\")\n",
    "    \n",
    "plot_roc_curve(fpr, tpr)\n",
    "plt.show()"
   ]
  },
  {
   "cell_type": "code",
   "execution_count": 26,
   "metadata": {},
   "outputs": [
    {
     "data": {
      "text/plain": [
       "0.9584848836996176"
      ]
     },
     "execution_count": 26,
     "metadata": {},
     "output_type": "execute_result"
    }
   ],
   "source": [
    "# ROC AUC(Area Under Curve)分数，可以理解为上图中ROC覆盖的面积\n",
    "from sklearn.metrics import roc_auc_score\n",
    "roc_auc_score(y_train_5, y_scores)"
   ]
  },
  {
   "cell_type": "code",
   "execution_count": 27,
   "metadata": {},
   "outputs": [],
   "source": [
    "# ROC曲线与Precision-Recall曲线对比\n",
    "\n",
    "# 如果Positive的样本比较少，使用PR曲线\n",
    "\n",
    "# PR曲线更注重False Positive\n",
    "# ROC曲线更注重 False Negatives"
   ]
  },
  {
   "cell_type": "code",
   "execution_count": 28,
   "metadata": {},
   "outputs": [
    {
     "data": {
      "text/plain": [
       "array([[1. , 0. ],\n",
       "       [0.9, 0.1],\n",
       "       [1. , 0. ],\n",
       "       ...,\n",
       "       [1. , 0. ],\n",
       "       [0.3, 0.7],\n",
       "       [1. , 0. ]])"
      ]
     },
     "execution_count": 28,
     "metadata": {},
     "output_type": "execute_result"
    }
   ],
   "source": [
    "# Compare Random Forest Classifier\n",
    "# RandomForestClassifier没有decision_function, \n",
    "# 只能用predict_proba,返回值是可能性百分数\n",
    "from sklearn.ensemble import RandomForestClassifier\n",
    "forest_clf = RandomForestClassifier(random_state=42)\n",
    "y_probas_forest = cross_val_predict(forest_clf, X_train, y_train_5, cv=3,\n",
    "                                    method=\"predict_proba\")\n",
    "y_probas_forest"
   ]
  },
  {
   "cell_type": "code",
   "execution_count": 29,
   "metadata": {},
   "outputs": [],
   "source": [
    "y_scores_forest = y_probas_forest[:, 1] # score = proba of positive class\n",
    "fpr_forest, tpr_forest, thresholds_forest = roc_curve(y_train_5, y_scores_forest)"
   ]
  },
  {
   "cell_type": "code",
   "execution_count": 30,
   "metadata": {},
   "outputs": [
    {
     "data": {
      "text/plain": [
       "array([2. , 1. , 0.9, 0.8, 0.7, 0.6, 0.5, 0.4, 0.3, 0.2, 0.1, 0. ])"
      ]
     },
     "execution_count": 30,
     "metadata": {},
     "output_type": "execute_result"
    }
   ],
   "source": [
    "thresholds_forest # threshold的取值范围会根据对比数组变化"
   ]
  },
  {
   "cell_type": "code",
   "execution_count": 31,
   "metadata": {},
   "outputs": [
    {
     "data": {
      "image/png": "[encoded data removed]",
      "text/plain": [
       "<Figure size 432x288 with 1 Axes>"
      ]
     },
     "metadata": {},
     "output_type": "display_data"
    },
    {
     "name": "stdout",
     "output_type": "stream",
     "text": [
      "ROC AUC Score of SGD:           0.9584848836996176\n",
      "ROC AUC Score of Random Forest: 0.9922164040792953\n"
     ]
    }
   ],
   "source": [
    "# ROC曲线图\n",
    "plt.plot(fpr, tpr, \"b:\", label=\"SGD\") #显示SGD算法的ROC曲线\n",
    "plot_roc_curve(fpr_forest, tpr_forest, \"Random Forest\")\n",
    "plt.legend(loc=\"lower right\")\n",
    "plt.show()\n",
    "\n",
    "# ROC AUC 分数\n",
    "print(\"ROC AUC Score of SGD:          \", roc_auc_score(y_train_5, y_scores))\n",
    "print(\"ROC AUC Score of Random Forest:\", roc_auc_score(y_train_5, y_scores_forest))"
   ]
  },
  {
   "cell_type": "code",
   "execution_count": 32,
   "metadata": {},
   "outputs": [
    {
     "data": {
      "image/png": "[encoded data removed]",
      "text/plain": [
       "<Figure size 432x288 with 1 Axes>"
      ]
     },
     "metadata": {},
     "output_type": "display_data"
    }
   ],
   "source": [
    "# 查看RandomForestClassifier的PR曲线\n",
    "precisions_forest, recalls_forest, thresholds_forest = precision_recall_curve(\n",
    "                                                        y_train_5, y_scores_forest)\n",
    "plot_precision_recall_vs_threshold(precisions_forest, recalls_forest,\n",
    "                                   thresholds_forest)\n",
    "plt.show()"
   ]
  },
  {
   "cell_type": "code",
   "execution_count": 33,
   "metadata": {},
   "outputs": [
    {
     "name": "stdout",
     "output_type": "stream",
     "text": [
      "Precision: 0.9819184123484013\n",
      "Recall: 0.821435159564656\n",
      "F1 Score: 0.894535958216151\n"
     ]
    }
   ],
   "source": [
    "# Random Forest Classifier 的 Precision, Reall 和 F1 分数\n",
    "y_train_pred_forest = cross_val_predict(forest_clf, X_train, y_train_5, cv=3)\n",
    "print(\"Precision:\", precision_score(y_train_5, y_train_pred_forest))\n",
    "print(\"Recall:\", recall_score(y_train_5, y_train_pred_forest))\n",
    "print(\"F1 Score:\", f1_score(y_train_5, y_train_pred_forest))\n",
    "\n",
    "#结论：RandomForestClassifier明显比SGDClassifier要更优秀"
   ]
  },
  {
   "cell_type": "code",
   "execution_count": 34,
   "metadata": {},
   "outputs": [
    {
     "data": {
      "text/plain": [
       "array([5.])"
      ]
     },
     "execution_count": 34,
     "metadata": {},
     "output_type": "execute_result"
    }
   ],
   "source": [
    "# Multiclass Classification\n",
    "\n",
    "# OvA (one-vs-all) 策略\n",
    "# 比如Random Forest classifiers， naive Bayes classifiers\n",
    "# 所需的分类器跟最终分类个数相同，每个分类器对所有数据进行训练\n",
    "\n",
    "# OvO (one-vs-one) 策略\n",
    "# 比如SVM，Linear classifiers\n",
    "# 需要 N x (N - 1) / 2 个分类器，好处是每个分类器只需要训练相关的一组数据就可以了，坏处是每次判断需要跑很多个分类器\n",
    "\n",
    "# SGDClassifier 支持多分类，默认使用OvA\n",
    "sgd_clf.fit(X_train, y_train) # 这里的 y_train 区别于之前的 y_train_5\n",
    "sgd_clf.predict([some_digit])"
   ]
  },
  {
   "cell_type": "code",
   "execution_count": 35,
   "metadata": {},
   "outputs": [
    {
     "data": {
      "text/plain": [
       "array([[-275397.99843172, -275635.29476577, -403559.47892569,\n",
       "          85813.71678385, -299026.78260893,  184308.37603936,\n",
       "        -828357.99644966, -295108.34318735, -762273.98341475,\n",
       "        -722987.85542441]])"
      ]
     },
     "execution_count": 35,
     "metadata": {},
     "output_type": "execute_result"
    }
   ],
   "source": [
    "some_digit_scores = sgd_clf.decision_function([some_digit])\n",
    "some_digit_scores"
   ]
  },
  {
   "cell_type": "code",
   "execution_count": 36,
   "metadata": {},
   "outputs": [
    {
     "name": "stdout",
     "output_type": "stream",
     "text": [
      "0.0 -275397.9984317204\n",
      "1.0 -275635.29476576584\n",
      "2.0 -403559.4789256929\n",
      "3.0 85813.71678385342\n",
      "4.0 -299026.7826089347\n",
      "5.0 184308.37603935713\n",
      "6.0 -828357.9964496557\n",
      "7.0 -295108.3431873526\n",
      "8.0 -762273.9834147457\n",
      "9.0 -722987.8554244122\n"
     ]
    }
   ],
   "source": [
    "# 可以看到5的分数最高\n",
    "for className, score in zip(sgd_clf.classes_, some_digit_scores[0]):\n",
    "    print(className, score)"
   ]
  },
  {
   "cell_type": "code",
   "execution_count": 37,
   "metadata": {},
   "outputs": [
    {
     "data": {
      "text/plain": [
       "array([5.])"
      ]
     },
     "execution_count": 37,
     "metadata": {},
     "output_type": "execute_result"
    }
   ],
   "source": [
    "# 强制使用OvO策略\n",
    "from sklearn.multiclass import OneVsOneClassifier\n",
    "ovo_clf = OneVsOneClassifier(SGDClassifier(random_state=42))\n",
    "ovo_clf.fit(X_train, y_train)\n",
    "ovo_clf.predict([some_digit])"
   ]
  },
  {
   "cell_type": "code",
   "execution_count": 38,
   "metadata": {},
   "outputs": [
    {
     "data": {
      "text/plain": [
       "array([0., 1., 2., 3., 4., 5., 6., 7., 8., 9.])"
      ]
     },
     "execution_count": 38,
     "metadata": {},
     "output_type": "execute_result"
    }
   ],
   "source": [
    "ovo_clf.classes_"
   ]
  },
  {
   "cell_type": "code",
   "execution_count": 39,
   "metadata": {},
   "outputs": [
    {
     "data": {
      "text/plain": [
       "array([[ 7.21267033,  3.90788166,  4.97787384,  8.3168285 ,  3.89299798,\n",
       "         9.5       , -0.43682205,  3.94127585,  1.81994486,  1.86734903]])"
      ]
     },
     "execution_count": 39,
     "metadata": {},
     "output_type": "execute_result"
    }
   ],
   "source": [
    "# 这里的decision_function应该是每个class对应的classifiers进行predict后累加的分数\n",
    "ovo_clf.decision_function([some_digit])"
   ]
  },
  {
   "cell_type": "code",
   "execution_count": 40,
   "metadata": {},
   "outputs": [
    {
     "data": {
      "text/plain": [
       "array([5.])"
      ]
     },
     "execution_count": 40,
     "metadata": {},
     "output_type": "execute_result"
    }
   ],
   "source": [
    "# Random Forest Classifier (OvA)\n",
    "forest_clf.fit(X_train, y_train)\n",
    "forest_clf.predict([some_digit])"
   ]
  },
  {
   "cell_type": "code",
   "execution_count": 41,
   "metadata": {},
   "outputs": [
    {
     "data": {
      "text/plain": [
       "array([[0. , 0. , 0. , 0. , 0. , 0.9, 0. , 0. , 0.1, 0. ]])"
      ]
     },
     "execution_count": 41,
     "metadata": {},
     "output_type": "execute_result"
    }
   ],
   "source": [
    "# 显示每个class的预测可能性\n",
    "forest_clf.predict_proba([some_digit])"
   ]
  },
  {
   "cell_type": "code",
   "execution_count": 42,
   "metadata": {},
   "outputs": [
    {
     "data": {
      "text/plain": [
       "array([0.85102979, 0.82329116, 0.87273091])"
      ]
     },
     "execution_count": 42,
     "metadata": {},
     "output_type": "execute_result"
    }
   ],
   "source": [
    "# Multiclass Classification 评估方法\n",
    "cross_val_score(sgd_clf, X_train, y_train, cv=3, scoring=\"accuracy\")"
   ]
  },
  {
   "cell_type": "code",
   "execution_count": 43,
   "metadata": {},
   "outputs": [
    {
     "data": {
      "text/plain": [
       "array([0.91061788, 0.90949547, 0.90718608])"
      ]
     },
     "execution_count": 43,
     "metadata": {},
     "output_type": "execute_result"
    }
   ],
   "source": [
    "# Use scaling to improve accuracy\n",
    "from sklearn.preprocessing import StandardScaler\n",
    "scaler = StandardScaler()\n",
    "X_train_scaled = scaler.fit_transform(X_train.astype(np.float64))\n",
    "cross_val_score(sgd_clf, X_train_scaled, y_train, cv=3, scoring=\"accuracy\")"
   ]
  },
  {
   "cell_type": "code",
   "execution_count": 44,
   "metadata": {},
   "outputs": [
    {
     "data": {
      "image/png": "[encoded data removed]",
      "text/plain": [
       "<Figure size 432x288 with 1 Axes>"
      ]
     },
     "metadata": {},
     "output_type": "display_data"
    },
    {
     "data": {
      "image/png": "[encoded data removed]",
      "text/plain": [
       "<Figure size 432x288 with 1 Axes>"
      ]
     },
     "metadata": {},
     "output_type": "display_data"
    }
   ],
   "source": [
    "# 随机抽取9组数据进行对比\n",
    "# 很奇怪scale之后的数字对比度降低了，但识别成功率却提高了\n",
    "original_image = np.zeros((28, 1))\n",
    "scaled_image = np.zeros((28, 1))\n",
    "for idx in np.arange(0, 9):\n",
    "    random_idx = np.random.randint(high=len(X_train), low=0)\n",
    "    original_digit = X_train[random_idx]\n",
    "    scaled_digit = X_train_scaled[random_idx]\n",
    "    original_image = np.hstack((original_image, original_digit.reshape(28, 28)))\n",
    "    scaled_image = np.hstack((scaled_image, scaled_digit.reshape(28, 28)))\n",
    "\n",
    "plt.imshow(original_image, cmap=matplotlib.cm.binary, interpolation='nearest')\n",
    "plt.axis(\"off\")\n",
    "plt.show()\n",
    "plt.imshow(scaled_image, cmap=matplotlib.cm.binary, interpolation='nearest')\n",
    "plt.axis(\"off\")\n",
    "plt.show()"
   ]
  },
  {
   "cell_type": "code",
   "execution_count": 45,
   "metadata": {},
   "outputs": [
    {
     "data": {
      "text/plain": [
       "array([[5730,    2,   21,    9,   10,   50,   47,   10,   40,    4],\n",
       "       [   1, 6457,   49,   28,    5,   38,    5,   11,  133,   15],\n",
       "       [  56,   37, 5329,  107,   79,   25,   84,   56,  170,   15],\n",
       "       [  46,   39,  133, 5348,    2,  237,   33,   54,  140,   99],\n",
       "       [  21,   27,   34,   10, 5334,    9,   56,   35,   92,  224],\n",
       "       [  71,   41,   37,  187,   70, 4602,  108,   29,  185,   91],\n",
       "       [  33,   26,   55,    2,   43,  100, 5615,    4,   40,    0],\n",
       "       [  23,   16,   67,   26,   57,   12,    6, 5784,   20,  254],\n",
       "       [  57,  138,   79,  143,   12,  160,   53,   22, 5052,  135],\n",
       "       [  44,   27,   26,   87,  156,   35,    2,  188,   89, 5295]])"
      ]
     },
     "execution_count": 45,
     "metadata": {},
     "output_type": "execute_result"
    }
   ],
   "source": [
    "# Error Analysis\n",
    "# Confusion Matrix\n",
    "# 其实就是之前的binary classification matrix 分解出来\n",
    "y_train_pred = cross_val_predict(sgd_clf, X_train_scaled, y_train, cv=3)\n",
    "conf_mx = confusion_matrix(y_train, y_train_pred)\n",
    "conf_mx"
   ]
  },
  {
   "cell_type": "code",
   "execution_count": 46,
   "metadata": {},
   "outputs": [
    {
     "data": {
      "image/png": "[encoded data removed]",
      "text/plain": [
       "<Figure size 288x288 with 1 Axes>"
      ]
     },
     "metadata": {},
     "output_type": "display_data"
    }
   ],
   "source": [
    "# 直观图例显示\n",
    "# 颜色较暗的表示该分类的样本个数较少，或者是识别的性能不好\n",
    "plt.matshow(conf_mx, cmap=plt.cm.gray)\n",
    "plt.show()"
   ]
  },
  {
   "cell_type": "code",
   "execution_count": 47,
   "metadata": {},
   "outputs": [
    {
     "data": {
      "image/png": "[encoded data removed]",
      "text/plain": [
       "<Figure size 288x288 with 1 Axes>"
      ]
     },
     "metadata": {},
     "output_type": "display_data"
    }
   ],
   "source": [
    "# 检测错误项,颜色越亮表示错误数越高\n",
    "# 列项表示预测结果，第0列表示所有预测为0的结果中，实际值的分布情况\n",
    "# 行项表示真实结果，第0行表示所有真实为0的样本中，最终预测的分布情况\n",
    "row_sums = conf_mx.sum(axis=1, keepdims=True) # 每行求和\n",
    "norm_conf_mx = conf_mx / row_sums # 标准化，可以让错误更加突出\n",
    "np.fill_diagonal(norm_conf_mx, 0) # 对角线填充为0，以便更容易测检测出错误项\n",
    "plt.matshow(norm_conf_mx, cmap=plt.cm.gray)\n",
    "plt.show()\n",
    "# 从图中可以看出8，9的错误率较高，3和5的判断也比较容易混淆"
   ]
  },
  {
   "cell_type": "code",
   "execution_count": 48,
   "metadata": {},
   "outputs": [],
   "source": [
    "# EXTRA\n",
    "def plot_digits(instances, images_per_row=10, title=None, **options):\n",
    "    size = 28\n",
    "    images_per_row = min(len(instances), images_per_row)\n",
    "    images = [instance.reshape(size,size) for instance in instances]\n",
    "    n_rows = (len(instances) - 1) // images_per_row + 1\n",
    "    row_images = []\n",
    "    n_empty = n_rows * images_per_row - len(instances)\n",
    "    images.append(np.zeros((size, size * n_empty)))\n",
    "    for row in range(n_rows):\n",
    "        rimages = images[row * images_per_row : (row + 1) * images_per_row]\n",
    "        row_images.append(np.concatenate(rimages, axis=1))\n",
    "    image = np.concatenate(row_images, axis=0)\n",
    "    plt.imshow(image, cmap = matplotlib.cm.binary, **options)\n",
    "    if title != None:\n",
    "        plt.title(title)\n",
    "    plt.axis(\"off\")"
   ]
  },
  {
   "cell_type": "code",
   "execution_count": 49,
   "metadata": {},
   "outputs": [
    {
     "data": {
      "image/png": "[encoded data removed]",
      "text/plain": [
       "<Figure size 576x576 with 4 Axes>"
      ]
     },
     "metadata": {},
     "output_type": "display_data"
    }
   ],
   "source": [
    "cl_a, cl_b = 3, 5\n",
    "# 注意，这里是numpy的array操作，不同于Python原生list，这个操作会把结果为True的行过滤出来\n",
    "X_aa = X_train[(y_train == cl_a) & (y_train_pred == cl_a)] # 3->3\n",
    "X_ab = X_train[(y_train == cl_a) & (y_train_pred == cl_b)] # 3->5\n",
    "X_ba = X_train[(y_train == cl_b) & (y_train_pred == cl_a)] # 5->3\n",
    "X_bb = X_train[(y_train == cl_b) & (y_train_pred == cl_b)] # 5->5\n",
    "\n",
    "plt.figure(figsize=(8,8))\n",
    "# 定义：subplot(nrows, ncols, index, **kwargs)\n",
    "plt.subplot(221); plot_digits(X_aa[:25], images_per_row=5, title=\"3 -> 3\")\n",
    "plt.subplot(222); plot_digits(X_ab[:25], images_per_row=5, title=\"3 -> 5\")\n",
    "plt.subplot(223); plot_digits(X_ba[:25], images_per_row=5, title=\"5 -> 3\")\n",
    "plt.subplot(224); plot_digits(X_bb[:25], images_per_row=5, title=\"5 -> 5\")\n",
    "plt.show()\n",
    "\n",
    "# 这里我们使用的是SGDClassifier，这是一个线性分类器，每个像素点都会产生权重，累加成最终结果\n",
    "# 在错误判断的样例中，3跟5的像素只有细微的差别，因此这种权重累加的方式容易出错\n",
    "# 也就是说这个分类器对图像的移位和旋转比较敏感，通过确保图像对准中心并且不发生旋转，可以较好地减少误差"
   ]
  },
  {
   "cell_type": "code",
   "execution_count": 54,
   "metadata": {},
   "outputs": [
    {
     "data": {
      "text/plain": [
       "array([[False,  True]])"
      ]
     },
     "execution_count": 54,
     "metadata": {},
     "output_type": "execute_result"
    }
   ],
   "source": [
    "# Multilabel Classification\n",
    "# 比如说识别一张图片中的多个头像\n",
    "\n",
    "# 一张图片两个label：1.是否是大数字 2.是否是奇数\n",
    "from sklearn.neighbors import KNeighborsClassifier\n",
    "y_train_large = (y_train >= 7)\n",
    "y_train_odd = (y_train % 2 == 1)\n",
    "y_multilabel = np.c_[y_train_large, y_train_odd]\n",
    "\n",
    "# Train\n",
    "knn_clf = KNeighborsClassifier()\n",
    "knn_clf.fit(X_train, y_multilabel)\n",
    "\n",
    "# Predict\n",
    "multilabel_pred = knn_clf.predict([some_digit])\n",
    "print(\"Multilabel prediction of 5:\", multilabel_pred)"
   ]
  },
  {
   "cell_type": "code",
   "execution_count": null,
   "metadata": {},
   "outputs": [],
   "source": [
    "# F1 Score of multilabel classifier\n",
    "y_train_knn_pred = cross_val_predict(knn_clf, X_train, y_multilabel, cv=3)\n",
    "f1_score(y_train, y_train_knn_pred, average=\"macro\")"
   ]
  },
  {
   "cell_type": "code",
   "execution_count": null,
   "metadata": {},
   "outputs": [],
   "source": []
  }
 ],
 "metadata": {
  "kernelspec": {
   "display_name": "Python 3",
   "language": "python",
   "name": "python3"
  },
  "language_info": {
   "codemirror_mode": {
    "name": "ipython",
    "version": 3
   },
   "file_extension": ".py",
   "mimetype": "text/x-python",
   "name": "python",
   "nbconvert_exporter": "python",
   "pygments_lexer": "ipython3",
   "version": "3.6.5"
  }
 },
 "nbformat": 4,
 "nbformat_minor": 2
}
