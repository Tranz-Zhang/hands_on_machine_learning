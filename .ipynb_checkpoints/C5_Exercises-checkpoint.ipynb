{
 "cells": [
  {
   "cell_type": "markdown",
   "metadata": {},
   "source": [
    "## Exercises"
   ]
  },
  {
   "cell_type": "markdown",
   "metadata": {},
   "source": [
    "#### 1. What is the fundamental idea behind Support Vector Machines?\n",
    " \n",
    " 找出不同样本之间的最大边距\n",
    "\n",
    "#### 2. What is a support vector?\n",
    "\n",
    "就是离分割线最近的点\n",
    "\n",
    "#### 3. Why is it important to scale the inputs when using SVMs?\n",
    "\n",
    "SVM的计算对于每个样本的大小比较敏感，如果样本之间的数值差距过大，会影响最终计算的精度\n",
    "\n",
    "#### 4. Can an SVM classifier output a confidence score when it classifies an instance? What about a probability?\n",
    "\n",
    "无法控制精确数值，因为只要样本落在分界线之外的地方，全部会判定为1。一定程度上可以有个概率来进行判定，就是距离分界线的距离。\n",
    "\n",
    "#### 5. Should you use the primal or the dual form of the SVM problem to train a model on a training set with millions of instances and hundreds of features?\n",
    "\n",
    "primal. 因为dual涉及矩阵运算，在样本较小的时候表现更好，但在大样本的情况下效率不高\n",
    "\n",
    "#### 6. Say you trained an SVM classifier with an RBF kernel. It seems to underfit the training set: should you increase or decrease γ (gamma)? What about C?\n",
    "\n",
    "\n",
    "\n",
    "#### 7. How should you set the QP parameters (H, f, A, and b) to solve the soft margin linear SVM classifier problem using an off-the-shelf QP solver?"
   ]
  },
  {
   "cell_type": "code",
   "execution_count": null,
   "metadata": {},
   "outputs": [],
   "source": []
  }
 ],
 "metadata": {
  "kernelspec": {
   "display_name": "Python 3",
   "language": "python",
   "name": "python3"
  },
  "language_info": {
   "codemirror_mode": {
    "name": "ipython",
    "version": 3
   },
   "file_extension": ".py",
   "mimetype": "text/x-python",
   "name": "python",
   "nbconvert_exporter": "python",
   "pygments_lexer": "ipython3",
   "version": "3.6.5"
  }
 },
 "nbformat": 4,
 "nbformat_minor": 2
}
